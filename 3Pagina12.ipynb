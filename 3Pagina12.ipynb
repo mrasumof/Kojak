{
 "cells": [
  {
   "cell_type": "code",
   "execution_count": 1,
   "metadata": {
    "collapsed": false
   },
   "outputs": [
    {
     "name": "stdout",
     "output_type": "stream",
     "text": [
      "Collection(Database(MongoClient('52.25.140.201', 27017), u'ProjectCorruption'), u'Links_to_articles')\n",
      "Collection(Database(MongoClient('52.25.140.201', 27017), u'ProjectCorruption'), u'Articles')\n",
      "Collection(Database(MongoClient('52.25.140.201', 27017), u'ProjectCorruption'), u'Parsed_Articles')\n"
     ]
    }
   ],
   "source": [
    "import pymongo\n",
    "from pymongo import MongoClient\n",
    "from requests.exceptions import ConnectionError\n",
    "from bs4 import BeautifulSoup\n",
    "import requests\n",
    "import time\n",
    "\n",
    "client = MongoClient(\"52.25.140.201\",27017)\n",
    "db = client['ProjectCorruption']\n",
    "\n",
    "coll_articles = db['Articles']\n",
    "coll_links = db['Links_to_articles']\n",
    "coll_parsed = db['Parsed_Articles']\n",
    "\n",
    "print coll_links\n",
    "print coll_articles\n",
    "print coll_parsed"
   ]
  },
  {
   "cell_type": "code",
   "execution_count": 2,
   "metadata": {
    "collapsed": false
   },
   "outputs": [
    {
     "name": "stdout",
     "output_type": "stream",
     "text": [
      "200\n"
     ]
    }
   ],
   "source": [
    "article_link = \"http://www.pagina12.com.ar/diario/elmundo/4-280327-2015-08-28.html\"\n",
    "response = requests.get(article_link)\n",
    "print response.status_code"
   ]
  },
  {
   "cell_type": "code",
   "execution_count": 3,
   "metadata": {
    "collapsed": false
   },
   "outputs": [],
   "source": [
    "page = response.text\n",
    "soup = BeautifulSoup(page)"
   ]
  },
  {
   "cell_type": "code",
   "execution_count": 4,
   "metadata": {
    "collapsed": false
   },
   "outputs": [
    {
     "name": "stdout",
     "output_type": "stream",
     "text": [
      "<!DOCTYPE html PUBLIC \"-//W3C//DTD XHTML 1.0 Strict//EN\" \"http://www.w3.org/TR/xhtml1/DTD/xhtml1-strict.dtd\">\n",
      "<html lang=\"es\" xml:lang=\"es\" xmlns=\"http://www.w3.org/1999/xhtml\">\n",
      "<head>\n",
      "<meta content=\"text/html; charset=utf-8\" http-equiv=\"Content-Type\"/>\n",
      "<meta content=\"no-cache\" http-equiv=\"Pragma\"/>\n",
      "<meta content=\"-1\" http-equiv=\"Expires\"/>\n",
      "<meta content=\"noarchive\" name=\"robots\"/>\n",
      "<meta content=\"Carmena, rostro de la nueva política en Madrid, reflexiona sobre los ataques de la prensa y plantea la necesidad de una reforma de la Justicia para que se puedan investigar los crímenes del franquismo.\" name=\"description\"/>\n",
      "<meta content=\"página/12, página12, página, 12, diario, argentina, noticias, política, economía, deportes, cultura, espectáculos, internacional, ciencia, últimas noticias, las12, radar, supleno, m2, newspaper, news, politics, business, sport, culture, entertainment, international, world, science\" name=\"keywords\"/>\n",
      "<meta content=\"2000-2015 Página/12\" name=\"copyright\"/>\n",
      "<meta content=\"192.168.12.101\" name=\"_created_by\"/>\n",
      "<meta content=\"192.168.12.101\" name=\"_served_by\"/>\n",
      "<meta content=\"Sat, 29 Aug 2015 05:19:32 -0300\" name=\"_date_creation\"/>\n",
      "<meta content=\"32\" name=\"_revision\"/>\n",
      "<link href=\"/favicon.ico\" rel=\"shortcut icon\" type=\"image/x-icon\"/>\n",
      "<link href=\"/favicon.ico\" rel=\"icon\" type=\"image/x-icon\"/>\n",
      "<script src=\"/commons/js/prototype.js\" type=\"text/javascript\"></script>\n",
      "<script src=\"/commons/js/jquery.min.js\" type=\"text/javascript\"></script>\n",
      "<script src=\"/commons/js/pag12.js\" type=\"text/javascript\"></script>\n",
      "<script src=\"/commons/js/clippings.js\" type=\"text/javascript\"></script>\n",
      "<script src=\"/commons/js/notas.js\" type=\"text/javascript\"></script>\n",
      "<script src=\"/commons/js/audio-player.js\" type=\"text/javascript\"></script>\n",
      "<script type=\"text/javascript\">\n",
      "   \n",
      "   //<![CDATA[\n",
      "   AudioPlayer.setup(\"/commons/audio/player.swf\", {\n",
      "      width: 290,\n",
      "      animation: \"no\",\n",
      "      checkpolicy: \"no\"\n",
      "   });\n",
      "   //]]>\n",
      "   \n",
      "</script>\n",
      "<link href=\"/commons/css/base.css\" rel=\"stylesheet\" type=\"text/css\"/>\n",
      "<link href=\"/commons/css/clippings.css\" rel=\"stylesheet\" type=\"text/css\"/>\n",
      "<link href=\"/commons/css/nota.css\" rel=\"stylesheet\" type=\"text/css\"/>\n",
      "<link href=\"/diario/rss/principal.xml\" rel=\"alternate\" title=\"RSS\" type=\"application/rss+xml\"/>\n",
      "<title>Página/12 :: El mundo :: Lo grave es que los medios mientan</title>\n",
      "</head>\n",
      "<body onload=\"clippings.load_cookie()\">\n",
      "<a name=\"arriba\"></a>\n",
      "<div id=\"contenedor_principal\">\n",
      "<div><script language=\"JavaScript\" src=\"http://ads.pagina12.com.ar/banner.php?s=102&amp;w=232&amp;h=60&amp;t=_blank&amp;cla=bannerp10%20fright%20right12\"></script></div>\n",
      "<div><script language=\"JavaScript\" src=\"http://ads.pagina12.com.ar/banner.php?s=103&amp;w=232&amp;h=60&amp;t=_blank&amp;cla=bannerp10%20fright%20right12\"></script></div>\n",
      "<div><script language=\"JavaScript\" src=\"http://ads.pagina12.com.ar/banner.php?s=110&amp;w=476&amp;h=60&amp;t=_blank&amp;cla=bannerp10%20fright%20right12\"></script></div>\n",
      "<div id=\"logo\">\n",
      "<a href=\"/\" title=\"Página/12 Web\"><img alt=\"Página/12\" src=\"/commons/imgs/logo-home.gif\"/></a>\n",
      "<p id=\"fecha_logo\">\n",
      "<a href=\"/diario/principal/index-2015-08-27.html\" title=\"Edición anterior\"><img alt=\"anterior\" src=\"/commons/imgs/ed_anterior.gif\"/></a>\n",
      "<img alt=\"|\" src=\"/commons/imgs/ed_palito.gif\"/>\n",
      "<a href=\"/diario/principal/index.html\" title=\"Edición siguiente\"><img alt=\"siguiente\" src=\"/commons/imgs/ed_siguiente.gif\"/></a>\n",
      "<span class=\"fecha_edicion\">Viernes, 28 de agosto de 2015</span>\n",
      "\t\t\t | <a class=\"cprincipal\" href=\"/\" title=\"Lleva a la última edición\">Hoy</a>\n",
      "</p>\n",
      "</div>\n",
      "<div class=\"clear\"></div>\n",
      "<div id=\"pre_menu\">\n",
      "<ul>\n",
      "<li class=\"fff\" id=\"menu_usuario_1\"></li><li class=\"fff\" id=\"menu_usuario_2\"></li><li><a class=\"curva1\" href=\"/usuarios/anteriores.php\" title=\"Seleccione desde un almanaque la edición que desea\"><img src=\"/commons/imgs/ico-anteriores.gif\"/>  Ediciones anteriores</a></li><li><a href=\"/buscador/index.php\" title=\"Búsqueda por sección/suple\"><img src=\"/commons/imgs/ico-buscar.gif\"/>  Busqueda avanzada</a></li><li><a href=\"/usuarios/correo.php\" title=\"Escriba desde aquí a las distintas secciones/suples\"><img src=\"/commons/imgs/ico-correo.gif\"/>  Correo</a></li>\n",
      "</ul>\n",
      "</div>\n",
      "<script type=\"text/javascript\">\n",
      "\t\t//<![CDATA[\n",
      "\t\tuser.menu();\n",
      "\t\t//]]>\n",
      "\t</script>\n",
      "<script type=\"text/javascript\">\n",
      "\t\t//<![CDATA[\n",
      "\t\tvar active_menu='secciones';\n",
      "\t\t//]]>\n",
      "\t</script>\n",
      "<div id=\"menu\">\n",
      "<div id=\"buscar\"><form action=\"/buscador/resultado.php\" id=\"form_search\" method=\"get\" name=\"form_search\"><a href=\"javascript:;\" onclick=\"$('form_search').submit(); return false;\" title=\"\"><img alt=\"buscar\" src=\"/commons/imgs/buscar-bot.gif\"/></a> <input id=\"input_search\" name=\"q\" type=\"text\"/></form></div>\n",
      "<div style=\"margin-left:20px\"><a class=\"\" href=\"/diario/ultimas/index-2015-08-28.html\" id=\"boton_ultimas\" onmouseout=\"menu_hide()\" onmouseover=\"menu_select('ultimas','button')\" title=\"Ultimas Noticias del 28-08-2015\"><span>Ultimas Noticias</span></a></div>\n",
      "<a class=\"sep menuon\" href=\"/diario/principal/index-2015-08-28.html\" id=\"boton_secciones\" onmouseout=\"menu_hide()\" onmouseover=\"menu_select('secciones','button')\" title=\"Acceso a Edición Impresa\"><span>Edicion Impresa</span></a>\n",
      "<a class=\"select menuon\" href=\"javascript:;\" id=\"select_secciones\" onclick=\"menu_toggle('secciones')\" onmouseout=\"menu_hide()\" onmouseover=\"menu_select('secciones','select')\" title=\"Abrir\"><span><img alt=\"abrir\" src=\"/commons/imgs/abrir3.gif\"/></span></a>\n",
      "<a class=\"sep\" href=\"/diario/suplementos/index-2015-08-28.html\" id=\"boton_suplementos\" onmouseout=\"menu_hide()\" onmouseover=\"menu_select('suplementos','button')\" title=\"Portada de Suplementos\"><span>Suplementos</span></a>\n",
      "<a class=\"select\" href=\"javascript:;\" id=\"select_suplementos\" onclick=\"menu_toggle('suplementos')\" onmouseout=\"menu_hide()\" onmouseover=\"menu_select('suplementos','select')\" title=\"Abrir\"><span><img alt=\"abrir\" src=\"/commons/imgs/abrir3.gif\"/></span></a>\n",
      "<a class=\"sep\" href=\"/diario/principal/diario/index-2015-08-28.html\" id=\"boton_tapas\" onmouseout=\"menu_hide()\" onmouseover=\"menu_select('tapas','button')\" title=\"Tapas\"><span>Tapas</span></a>\n",
      "<a class=\"sep\" href=\"/diario/suplementos/rosario/index-2015-08-28.html\" id=\"boton_rosario\" onmouseout=\"menu_hide()\" onmouseover=\"menu_select('rosario','button')\" title=\"Rosario/12\"><span>Rosario/12</span></a>\n",
      "<a class=\"sep\" href=\"http://blogs.pagina12.com.ar/revistafierro/\" id=\"boton_fierro\" onmouseout=\"menu_hide()\" onmouseover=\"menu_select('fierro','button')\" title=\"Revista Fierro, la historieta argentina\"><span>Fierro</span></a>\n",
      "<a class=\"sep\" href=\"/futbol/index.html\" id=\"boton_futbol\" onmouseout=\"menu_hide()\" onmouseover=\"menu_select('futbol','button')\" title=\"Fútbol en vivo\"><span>Futbol en vivo</span></a>\n",
      "</div>\n",
      "<div id=\"submenu\">\n",
      "<ul id=\"menu_secciones\">\n",
      "<li><a href=\"/diario/secciones/index-2015-08-28.html\" title=\"Indice de secciones\">Indice</a></li>\n",
      "<li><a href=\"/diario/elpais/index-2015-08-28.html\" title=\"El país\">EL PAIS</a></li> <li><a href=\"/diario/economia/index-2015-08-28.html\" title=\"Economía\">ECONOMIA</a></li> <li><a href=\"/diario/sociedad/index-2015-08-28.html\" title=\"Sociedad\">SOCIEDAD</a></li> <li><a href=\"/diario/laventana/index-2015-08-28.html\" title=\"La ventana\">LA VENTANA</a></li> <li><a class=\"submenuon\" href=\"/diario/elmundo/index-2015-08-28.html\" title=\"El mundo\">EL MUNDO</a></li> <li><a href=\"/diario/suplementos/espectaculos/index-2015-08-28.html\" title=\"Espectáculos\">ESPECTACULOS</a></li> <li><a href=\"/diario/deportes/index-2015-08-28.html\" title=\"Deportes\">DEPORTES</a></li> <li><a href=\"/diario/psicologia/index-2015-08-28.html\" title=\"Psicología\">PSICOLOGIA</a></li> <li><a href=\"/diario/universidad/index-2015-08-28.html\" title=\"Universidad\">UNIVERSIDAD</a></li> <li><a href=\"/diario/contratapa/index-2015-08-28.html\" title=\"Contratapa\">CONTRATAPA</a></li> <li><a href=\"/diario/debates/index-2015-08-28.html\" title=\"Debates\">DEBATES</a></li> <li><a href=\"/diario/pirulo/index-2015-08-28.html\" title=\"Pirulo de tapa\">PIRULO DE TAPA</a></li> </ul>\n",
      "<ul id=\"menu_suplementos\" style=\"display:none\">\n",
      "<li class=\"lradar\"><a href=\"/diario/suplementos/radar/index-2015-08-28.html\" title=\"Radar\">Radar</a></li>\n",
      "<li class=\"llibros\"><a href=\"/diario/suplementos/libros/index-2015-08-28.html\" title=\"Radar Libros\">Radar Libros</a></li>\n",
      "<li class=\"lcash\"><a href=\"/diario/suplementos/cash/index-2015-08-28.html\" title=\"Cash\">Cash</a></li>\n",
      "<li class=\"lturismo\"><a href=\"/diario/suplementos/turismo/index-2015-08-28.html\" title=\"Turismo\">Turismo</a></li>\n",
      "<li class=\"llibero\"><a href=\"/diario/suplementos/libero/index-2015-08-28.html\" title=\"Líbero\">Libero</a></li>\n",
      "<li class=\"lno\"><a href=\"/diario/suplementos/no/index-2015-08-28.html\" title=\"NO\">NO</a></li>\n",
      "<li class=\"llas12\"><a href=\"/diario/suplementos/las12/index-2015-08-28.html\" title=\"Las12\">Las12</a></li>\n",
      "<li class=\"lfuturo\"><a href=\"/diario/suplementos/futuro/index-2015-08-28.html\" title=\"Futuro\">Futuro</a></li>\n",
      "<li class=\"lm2\"><a href=\"/diario/suplementos/m2/index-2015-08-28.html\" title=\"M2\">M2</a></li>\n",
      "<li class=\"lsoy\"><a href=\"/diario/suplementos/soy/index-2015-08-28.html\" title=\"Soy\">Soy</a></li>\n",
      "<li class=\"lsatira\"><a href=\"/diario/suplementos/satira/index-2015-08-28.html\" title=\"Sátira12\">Satira12</a></li>\n",
      "<li class=\"lcommon\"><a href=\"/especiales/index.php\" title=\"Especiales\">Especiales</a></li>\n",
      "<li class=\"lcommon\"><a href=\"javascript:;\" onclick=\"openGallery()\" title=\"Fotogalería\">Fotogaleria</a></li>\n",
      "</ul>\n",
      "<ul id=\"menu_tapas\" style=\"display:none\">\n",
      "<li><a href=\"/diario/principal/diario/index-2015-08-27.html\">← Anterior (27-08-2015)</a></li>\n",
      "<li><a href=\"/diario/principal/diario/index.html\">Ultima&amp;nbsp(29-08-2015)</a></li>\n",
      "</ul>\n",
      "<ul id=\"menu_rosario\" style=\"display:none\">\n",
      "</ul>\n",
      "</div>\n",
      "<div class=\"clear\"></div>\n",
      "<div style=\"float:left\">\n",
      "<div class=\"columna470\">\n",
      "<div class=\"nota top12\">\n",
      "<p class=\"volanta\"><a class=\"cprincipal\" href=\"/diario/elmundo/index-2015-08-28.html\" title=\"\">EL MUNDO</a> › ENTREVISTA A MANUELA CARMENA, ALCALDESA DE LA CAPITAL ESPAÑOLA</p>\n",
      "<h2>Lo grave es que los medios mientan</h2>\n",
      "<p class=\"intro\">Carmena, rostro de la nueva política en Madrid, reflexiona sobre los ataques de la prensa y plantea la necesidad de una reforma de la Justicia para que se puedan investigar los crímenes del franquismo.</p>\n",
      "<div class=\"botones\">\n",
      "<div class=\"icono\"><a href=\"/diario/elmundo/4-280327-2015-08-28.html\" target=\"_blank\" title=\"Abrir nota en una ventana nueva\"><img src=\"/commons/imgs/ico-abrirnota.gif\"/></a></div>\n",
      "<div class=\"iconoa\"><a href=\"javascript:;\" onclick=\"txt_more()\" title=\"Aumentar tamaño del texto\"><img src=\"/commons/imgs/ico-a+vertical.gif\"/></a></div>\n",
      "<div class=\"icono\"><a href=\"javascript:;\" onclick=\"txt_less()\" title=\"Reducir tamaño del texto\"><img src=\"/commons/imgs/ico-a-vertical.gif\"/></a></div>\n",
      "<div class=\"icono\"><a href=\"javascript:;\" onclick=\"clippings.add('/diario/elmundo/4-280327-2015-08-28.html','%93Lo%20grave%20es%20que%20los%20medios%20mientan%94')\" title=\"Recortar esta nota y guardarla\"><img src=\"/commons/imgs/ico-cortar.gif\"/></a></div>\n",
      "<div class=\"icono\"><a href=\"/imprimir/diario/elmundo/4-280327-2015-08-28.html\" title=\"Versión para imprimir\"><img src=\"/commons/imgs/ico-imprimir.gif\"/></a></div>\n",
      "<div class=\"icono\"><a href=\"javascript:;\" onclick=\"mail(1)\" title=\"Enviar por mail\"><img src=\"/commons/imgs/ico-enviar.gif\"/></a></div>\n",
      "</div>\n",
      "<a name=\"formu_mail\"></a>\n",
      "<div id=\"xmail\" style=\"display:none\">\n",
      "<form action=\"/usuarios/enviar.php\" id=\"form_mail\" method=\"post\" name=\"formu\" onsubmit=\"return check_enviar_nota()\">\n",
      "<div class=\"cerrar\">[<a href=\"javascript:;\" onclick=\"mail(1)\">cerrar</a>]</div>\n",
      "<h4>Comparta esta nota con un amigo</h4>\n",
      "<table>\n",
      "<tr>\n",
      "<td>E-Mail de su amigo</td>\n",
      "<td><input name=\"amigoemail\" type=\"text\"/></td>\n",
      "</tr>\n",
      "<tr>\n",
      "<td>Su nombre</td>\n",
      "<td><input name=\"nombre\" type=\"text\"/></td>\n",
      "</tr>\n",
      "<tr>\n",
      "<td>Su E-Mail</td>\n",
      "<td><input name=\"tuemail\" type=\"text\"/></td>\n",
      "</tr>\n",
      "<tr>\n",
      "<td> </td>\n",
      "<td><input name=\"url\" type=\"hidden\" value=\"/diario/elmundo/4-280327-2015-08-28.html\"/><input name=\"enviar\" type=\"submit\" value=\"Enviar\"/></td>\n",
      "</tr>\n",
      "</table>\n",
      "</form>\n",
      "</div>\n",
      "<p class=\"autor\"><img alt=\"\" src=\"/commons/imgs/go-gris.gif\"/> Por Mercedes López San Miguel</p>\n",
      "<div id=\"cuerpo\"><p class=\"margen0\">Con 71 años, polifacética y apacible, es la cara de la nueva política en Madrid. Consciente de ser una alternativa para una España donde los partidos tradicionales han perdido credibilidad, Manuela Carmena ocupa la alcaldía de la capital desde hace dos meses. Su plataforma ciudadana Ahora Madrid, que incluye a representantes del movimiento de los Indignados, agrupaciones de izquierda tradicional y la fuerza contestataria Podemos, rompió con la hegemonía del Partido Popular en una de las ciudades más conservadoras de España. Hasta ahora.</p> <p>Militante comunista en su juventud, Carmena forjó una vasta trayectoria en la Justicia como defensora de detenidos durante el franquismo, magistrada y cofundadora de la asociación progresista Jueces para la Democracia. Se autodefine ante todo como una mujer de izquierda y no se deja encorsetar con el mote de política profesional. Carmena vino a Buenos Aires a presentar su libro Por qué las cosas pueden ser diferentes (Ed. Capital Intelectual), estadía en la que incluyó un encuentro con la presidenta Cristina Fernández y una reunión para hoy con el jefe de Gobierno porteño y candidato Mauricio Macri. Orgullosa de haber declarado a Madrid una ciudad libre de desahucios (desalojos), en diálogo con Página/12, Carmena reflexiona sobre las nuevas formas de hacer política, la corrupción en España, la necesidad de una reforma de la Justicia y el gran desafío para su gestión, acabar con la desigualdad.</p> <p><strong>Su bandera política ha sido ponerle fin a los desahucios.</strong></p> <p>Sí, es una de ellas. Teníamos una serie de medidas urgentes: frenar los desahucios o desalojos como dicen aquí; mejorar los problemas de malnutrición de niños y crear puestos de trabajo para los jóvenes. Empezamos a repartir comida para que los niños no dejaran de tener comida en las vacaciones y los fines de semana, fuera del ámbito escolar. Los niños no comen lo que necesitan a causa de la situación económica de sus familias, que han tenido un descenso enorme de los salarios. Debemos buscar nuevos programas para activar el empleo. En la intendencia de Madrid hay agencias de empleo que son municipales y coexisten con las agencias estatales y que están fundamentalmente ubicadas en las zonas más vulnerables. Estamos empezando a desarrollar proyectos piloto de trabajo allí, llegando a acuerdos con empresas que estén dispuestas a contratar a jóvenes para darles una formación y emplearlos.</p> <p><strong>¿Cómo combatirá la corrupción?</strong></p> <p>Pensamos que es muy importante la transparencia para combatir la corrupción y hemos desarrollado medidas en ese sentido, como por ejemplo que todos los ciudadanos puedan ver en una página de Internet dónde nos reunimos las personas del ayuntamiento. Vamos a proponer pronto que se cree la oficina contra el fraude. Queremos que sea un organismo que no dependa del equipo municipal, sino de todo el pleno del ayuntamiento para que sea muy independiente y objetivo y pueda ayudar a profundizar cuando haya denuncias concretas de cualquier ciudadano.</p> <p><strong>La corrupción parece endémica en la clase política española.</strong></p> <p>Sí. Ha afectado muchísimo al PP, con las dobles contabilidades, a las economías de los partidos y ha tenido mucha raíz con los contratos públicos. De ahí que tengamos una visión clara de se han hecho muchos contratos innecesarios. Hay muchas actividades que las pueden hacer los funcionarios del ayuntamiento, por ejemplo la información al público que en Madrid la brinda Línea Madrid; es un servicio privado.</p> <p><strong>¿Cómo es lidiar con una prensa conservadora como la de Madrid, que la critica por sus vacaciones, por la página web de transparencia, hasta por llevar una flor?</strong></p> <p>Fue muy risueño el debate sobre la flor que llevaba en la playa y se argumentaba si era una flor protegida o no. Yo dije que si estaba protegida, que no lo sabía y que me pusieran una multa. Pero no lo estaba. En general cuando una persona modifica el establishment, cuando hace algo nuevo primero hay indiferencia y luego aparece la confrontación. Muchas de esas críticas son parte de la confrontación ante una realidad que estamos cambiando.</p> <p><strong>¿Siente que hay una campaña mediática en su contra?</strong></p> <p>Creo que no. Adelante con las críticas bien instrumentadas. A mí me preocupa que se traspasen los criterios éticos. Pienso que la vida personal de un político puede tener interés para un ciudadano, y yo me someto y comprendo que hagan preguntas sobre mis vacaciones. Pero no me parece bien que den informaciones sin ninguna confrontación, que se digan mentiras. Lo grave es que se mienta, no que se informe sobre nosotros. Los medios tienen que informar con la verdad y siempre deben preguntar a la persona afectada.</p> <p><strong>¿Por qué en España no sólo no se investigan los crímenes del franquismo, también se obstruye la causa que lleva adelante la jueza argentina Servini de Cubría? La Justicia española no accedió a los pedidos de extradición contra veinte acusados, entre ellos ocho ex ministros.</strong></p> <p>Yo creo profundamente en la Justicia universal, creo que es una gran conquista para hacer efectivos los derechos humanos y por tanto, cualquier paso que se dé en ese sentido me parece muy correcto. España ha sido criticada duramente por el Consejo de Derechos Humanos de Naciones Unidas por incumplir la obligación de investigar el franquismo. España debe rectificar.</p> <p><strong>Muchos señalan que la Justicia responde al PP, y además el gobierno de Mariano Rajoy no tiene voluntad política de rectificar.</strong></p> <p>Por supuesto que no hay voluntad política. El Poder Judicial tampoco cumple con las disposiciones del Consejo de Derechos Humanos de la ONU. Es una tarea pendiente.</p> <p><strong>¿Hace falta una reforma judicial?</strong></p> <p>Sí, hay muchas cosas que hay que modificar, desde luego. Quizás una sea cómo implantar la ejecutividad en los tribunales de España de las resoluciones de los organismos de control de derechos humanos. Así como está claro que las decisiones del Tribunal Europeo de Derechos Humanos son de acatamiento obligado, y se han cumplido las sentencias en los tribunales españoles, también habría que contemplar las declaraciones del Consejo de Derechos Humanos de la ONU. La reforma necesaria es la que vincule la Justicia nacional con los presupuestos de los derechos humanos internacionales.</p> <p><strong>En su libro, usted plantea como tesis una organización política sin partidos. ¿Cómo sería?</strong></p> <p>Intento profundizar sobre cuál es el papel de los partidos políticos en las sociedades modernas actuales. Los procesos deliberativos se han burocratizado y cosificado. Pienso que tiene que haber nuevas estructuras de representación de la ciudadanía que hagan compatible una democracia directa junto con una representación de los intereses de los ciudadanos. Los partidos son demasiado generales, pretenden dar respuesta a todo desde la eutanasia, hasta el aborto, etc. Sería mejor la representación de los ciudadanos en proyectos concretos. Por ejemplo, para mejorar los medios de adopción de las parejas homosexuales o para mejorar los procesos de educación. El daño que hace la misma concepción del partido, como su nombre lo indica y se lo escuché decir a Juan Carlos Monedero (uno de los fundadores de Podemos), es una porción, que hacemos una raya. No estaría mal pensar en algo más interrelacionado. Nuestra capacidad de decisión queda sujeta a esa concepción dogmática del partido. Cada uno de nosotros es una posibilidad de cambio.</p> <p><strong>El miércoles tuvo un encuentro con la presidenta Cristina Fernández. ¿De qué hablaron?</strong></p> <p>Hablamos de cosas cotidianas, desde lo que yo había hecho cuando me jubilé de la judicatura, de la tienda social que yo había montado en Madrid (N. de la R.: al jubilarse creó una empresa sin fines de lucro que fabrica ropa para bebés, con el trabajo de las presas de Alcalá). También de mi libro. Ella me contó que acaba de tener una nieta y después hablamos de por qué yo había decidido liderar la candidatura de Ahora Madrid y de cómo se había desarrollado el proceso electoral. Fue interesante.</p> <p><strong>En la reunión participó el ministro de Economía, Axel Kicillof. ¿Conversaron sobre la crisis española?</strong></p> <p>De eso hablamos poco. Me preguntaron sobre el desempleo.</p> <p><strong>Que en Madrid ronda el 16 por ciento...</strong></p> <p>Está muy desnivelado según los barrios. En los barrios más vulnerables, los del sur, el desempleo supera el 20 por ciento, y hay mucha diferencia con los sectores ricos.</p> <p><strong>¿Va a tener un encuentro con Mauricio Macri?</strong></p> <p>-Sí, mañana (por hoy). Estoy interesadísima porque Macri y yo somos presidentes de la UCCI (Unión de Ciudades Capitales Iberoamericanas). Con él estamos en la misma organización, no podía dejar de visitarle.</p> <p><strong>Europa ha mirado con cierta crítica los procesos progresistas en América latina. ¿Cuál es su visión?</strong></p> <p>Desde España se necesita más comunicación con América latina, seguimos teniendo una visión no lo suficientemente amplia.</p> <p><strong>¿Qué opina de la situación en Grecia?</strong></p> <p>No soy politóloga para opinar sobre la cuestión política. Desde el punto de vista humano, Europa tiene que ayudar a Grecia; cada europeo debería pedir que no se destroce a Grecia, que no puede pagar la deuda. Casi como un proceso de solidaridad civil.</p> <a href=\"mailto:mercelopez@pagina12.com.ar\" title=\"\">mercelopez@pagina12.com.ar</a></div>\n",
      "<script type=\"text/javascript\">\n",
      "\t\t\t\t//<![CDATA[\n",
      "\t\t\t\tvar cuerpo = new get_obj('cuerpo');\n",
      "\t\t\t\tcuerpo.style.fontSize = ACTUAL_FONTSIZE + \"px\";\n",
      "\t\t\t\t//]]>\n",
      "\t\t\t</script>\n",
      "<div><script language=\"JavaScript\" src=\"http://ads.pagina12.com.ar/banner.php?s=197&amp;w=0&amp;h=0&amp;t=_blank&amp;cla=bannerp12\"></script></div>\n",
      "</div>\n",
      "<div class=\"pienota\">\n",
      "<div class=\"botonespie\">\n",
      "<div class=\"compartir\"><p>Compartir: </p>\n",
      "<a href=\"http://www.facebook.com/share.php?u=http://www.pagina12.com.ar/diario/elmundo/4-280327-2015-08-28.html\" target=\"_blank\" title=\"Compartir en Facebook\"><img src=\"/commons/imgs/social/facebook.gif\"/></a>\n",
      "<a href=\"http://twitter.com/share?url=http://www.pagina12.com.ar/diario/elmundo/4-280327-2015-08-28.html&amp;text=PÃ¡gina/12+-+%C2%93Lo+grave+es+que+los+medios+mientan%C2%94\" target=\"_blank\" title=\"Compartir en Twitter\"><img alt=\"Twitter\" src=\"/commons/imgs/social/twitter.gif\"/></a>\n",
      "<a href=\"http://del.icio.us/post?url=http://www.pagina12.com.ar/diario/elmundo/4-280327-2015-08-28.html&amp;title=%93Lo%20grave%20es%20que%20los%20medios%20mientan%94\" target=\"_blank;\" title=\"Compartir en Del.icio.us\"><img src=\"/commons/imgs/social/delicious.gif\"/></a>\n",
      "<span><g:plusone annotation=\"none\" size=\"small\"></g:plusone></span>\n",
      "<script type=\"text/javascript\">\n",
      "                      window.___gcfg = {lang: 'es-419'};\n",
      "                      (function() {\n",
      "                        var po = document.createElement('script'); po.type = 'text/javascript'; po.async = true;\n",
      "                        po.src = 'https://apis.google.com/js/plusone.js';\n",
      "                        var s = document.getElementsByTagName('script')[0]; s.parentNode.insertBefore(po, s);\n",
      "                      })();\n",
      "                    </script>\n",
      "</div>\n",
      "<a href=\"javascript:;\" onclick=\"clippings.add('/diario/elmundo/4-280327-2015-08-28.html','%93Lo%20grave%20es%20que%20los%20medios%20mientan%94')\" title=\"Recortar esta nota y guardarla\"><img src=\"/commons/imgs/ico-cortar.gif\"/></a> <a href=\"/imprimir/diario/elmundo/4-280327-2015-08-28.html\" title=\"Versión para imprimir\"><img src=\"/commons/imgs/ico-imprimir.gif\"/></a> <a href=\"javascript:;\" onclick=\"mail(0)\" title=\"Enviar por mail\"><img src=\"/commons/imgs/ico-enviar.gif\"/></a>\n",
      "</div>\n",
      "<p style=\"text-align: right\"><a href=\"#arriba\" title=\"Arriba\"><img src=\"/commons/imgs/ico-arriba-pie.gif\"/></a></p>\n",
      "</div>\n",
      "</div>\n",
      "<div class=\"columna232 left6\">\n",
      "<div class=\"top12\" id=\"bloque_tags\">\n",
      "</div>\n",
      "<div class=\"foto_nota top12\">\n",
      "<img alt=\"\" src=\"http://www.pagina12.com.ar/fotos/20150828/notas/na22fo01.jpg\" style=\"width:232px\"/>\n",
      "</div>\n",
      "<div class=\"epigrafe\">Manuela Carmena vino a Buenos Aires a presentar su libro Por qué las cosas pueden ser diferentes.</div> <div class=\"autorfoto\">Imagen: Sandra Cartasso</div>\n",
      "<div><script language=\"JavaScript\" src=\"http://ads.pagina12.com.ar/banner.php?s=116&amp;w=232&amp;h=0&amp;t=_blank&amp;cla=bannerp12\"></script></div>\n",
      "<div><script language=\"JavaScript\" src=\"http://ads.pagina12.com.ar/banner.php?s=117&amp;w=232&amp;h=0&amp;t=_blank&amp;cla=bannerp12\"></script></div>\n",
      "<div><script language=\"JavaScript\" src=\"http://ads.pagina12.com.ar/banner.php?s=191&amp;w=232&amp;h=0&amp;t=_blank&amp;cla=bannerp12\"></script></div>\n",
      "\t\t\t\n",
      "\t\t   \t\t\t\t\n",
      "\t\t\t\t\n",
      "\t\t\t\n",
      "\t\n",
      "\t\t \n",
      "\t\n",
      "\t</div>\n",
      "<div style=\"float:left;clear:left;\"><script language=\"JavaScript\" src=\"http://ads.pagina12.com.ar/banner.php?s=198&amp;w=0&amp;h=0&amp;t=_blank&amp;cla=bannerp12%20left12\"></script></div>\n",
      "</div>\n",
      "<div class=\"columna232 left12\">\n",
      "<div class=\"top12\">\n",
      "</div>\n",
      "<div class=\"top12\" id=\"notaspag12\">\n",
      "<div id=\"clippings_top\">\n",
      "<div id=\"clippings_user\"></div>\n",
      "<div id=\"clippings_toc\"></div>\n",
      "<div id=\"clippings_total\"></div>\n",
      "</div>\n",
      "<div id=\"clippings_container\" style=\"display:none\">\n",
      "<div id=\"clippings_folder\"></div>\n",
      "<div id=\"clippings_controls\"><span id=\"del_selected\"></span><span id=\"del_all\"></span><span id=\"clip_help\"></span></div>\n",
      "</div>\n",
      "</div>\n",
      "<div><script language=\"JavaScript\" src=\"http://ads.pagina12.com.ar/banner.php?s=122&amp;w=232&amp;h=0&amp;t=_blank&amp;cla=bannerp12\"></script></div>\n",
      "<div class=\"top12 desplegable_titulo bgceleste\">EL MUNDO</div>\n",
      "<div class=\"top12 desplegable_boton boton_cerrar\" id=\"boton_indice_secciones\" onclick=\"_toggle('indice_secciones')\"> indice</div>\n",
      "<div class=\"indice\" id=\"indice_secciones\">\n",
      "<ul>\n",
      "<li>\n",
      "<span class=\"volanta\">DOS PERIODISTAS FRANCESES PRESOS POR PEDIR TRES MILLONES DE EUROS PARA NO PUBLICAR UN LIBRO CRITICO</span><br/> <span class=\"titulo\"><a class=\"cprincipal\" href=\"/diario/elmundo/4-280332-2015-08-28.html\" title=\"\">Una propuesta al monarca de Marruecos</a></span>\n",
      "</li>\n",
      "<li>\n",
      "<span class=\"volanta\">PESE A LOS MAS DE CIEN MIL REFUGIADOS QUE CRUZARON EL MEDITERRANEO EN JULIO, EUROPA SE SUMIO EN EL SILENCIO</span><br/> <span class=\"titulo\"><a class=\"cprincipal\" href=\"/diario/elmundo/4-280328-2015-08-28.html\" title=\"\">Europa calla ante el drama de los inmigrantes</a></span>\n",
      "<br/><span class=\"autor\">Por Eduardo Febbro</span></li>\n",
      "<li>\n",
      "<span class=\"volanta\">DURANTE UN AÑO TRABAJO JUNTO A SUS DOS VICTIMAS</span><br/> <span class=\"titulo\"><a class=\"cprincipal\" href=\"/diario/elmundo/4-280333-2015-08-28.html\" title=\"\">La historia del hombre que mató a sus colegas</a></span>\n",
      "</li>\n",
      "<li>\n",
      "<span class=\"volanta\">MIGRACION AL REINO UNIDO</span><br/> <span class=\"titulo\"><a class=\"cprincipal\" href=\"/diario/elmundo/4-280329-2015-08-28.html\" title=\"\">Record de arribos</a></span>\n",
      "</li>\n",
      "<li>\n",
      "<span class=\"volanta\">HALLAN DECENAS DE CADAVERES DENTRO DE UN CAMION EN AUSTRIA</span><br/> <span class=\"titulo\"><a class=\"cprincipal\" href=\"/diario/elmundo/4-280330-2015-08-28.html\" title=\"\">Asfixiados y abandonados</a></span>\n",
      "</li>\n",
      "<li class=\"actual\">\n",
      "<span class=\"volanta\">ENTREVISTA A MANUELA CARMENA, ALCALDESA DE LA CAPITAL ESPAÑOLA</span><br/> <span class=\"titulo cprincipal\">Lo grave es que los medios mientan</span>\n",
      "<br/><span class=\"autor\">Por Mercedes López San Miguel</span></li>\n",
      "<li>\n",
      "<span class=\"volanta\">EN GRECIA ASUME UN GOBIERNO PROVISIONAL PREVIO A LOS COMICIOS</span><br/> <span class=\"titulo\"><a class=\"cprincipal\" href=\"/diario/elmundo/4-280325-2015-08-28.html\" title=\"\">Ultimo paso hacia las urnas</a></span>\n",
      "</li>\n",
      "<li>\n",
      "<span class=\"volanta\">CORTAN EL ACCESO A SANTIAGO PORQUE EN LA ARAUCANIA LES PRENDEN FUEGO SUS VEHICULOS</span><br/> <span class=\"titulo\"><a class=\"cprincipal\" href=\"/diario/elmundo/4-280323-2015-08-28.html\" title=\"\">Camioneros-mapuches, un clásico chileno</a></span>\n",
      "</li>\n",
      "<li>\n",
      "<span class=\"volanta\">SE VAN EL CANCILLER Y EL MINISTRO DE SEGURIDAD</span><br/> <span class=\"titulo\"><a class=\"cprincipal\" href=\"/diario/elmundo/4-280324-2015-08-28.html\" title=\"\">Peña Nieto cambia medio gabinete</a></span>\n",
      "</li>\n",
      "<li>\n",
      "<span class=\"volanta\">IRAK</span><br/> <span class=\"titulo\"><a class=\"cprincipal\" href=\"/diario/elmundo/4-280326-2015-08-28.html\" title=\"\">Ataque a un cuartel</a></span>\n",
      "</li>\n",
      "<li>\n",
      "<span class=\"titulo\"><a class=\"cprincipal\" href=\"/diario/elmundo/4-280331-2015-08-28.html\" title=\"\">Naufragio cerca de Libia</a></span>\n",
      "</li>\n",
      "</ul>\n",
      "</div>\n",
      "<div><script language=\"JavaScript\" src=\"http://ads.pagina12.com.ar/banner.php?s=183&amp;w=232&amp;h=0&amp;t=_blank&amp;cla=bannerp12\"></script></div>\n",
      "<div id=\"bloque_escriben_hoy\">\n",
      "<h4>ESCRIBEN HOY</h4>\n",
      "<ul>\n",
      "<li><a href=\"/diario/elpais/1-280362-2015-08-28.html\" title=\"\"><span style=\"color:#028ccd\">Adriana Meyer</span></a> </li>\n",
      "<li><a href=\"/diario/suplementos/soy/1-4149-2015-08-28.html\" title=\"\"><span style=\"color:#8e8a7b\">Alejandro Modarelli</span></a> </li>\n",
      "<li><a href=\"/diario/sociedad/3-280334-2015-08-28.html\" title=\"\"><span style=\"color:#504f4f\">Brian Majlin</span></a> </li>\n",
      "<li><a href=\"/diario/suplementos/espectaculos/13-36485-2015-08-28.html\" title=\"\"><span style=\"color:#028ccd\">Carolina Prieto</span></a> </li>\n",
      "<li><a href=\"/diario/suplementos/las12/13-10005-2015-08-28.html\" title=\"\"><span style=\"color:#8e8a7b\">Carolina Selicki Acevedo</span></a> </li>\n",
      "<li><a href=\"/diario/suplementos/soy/1-4147-2015-08-28.html\" title=\"\"><span style=\"color:#504f4f\">Christian Quinteros</span></a> </li>\n",
      "<li><a href=\"/diario/suplementos/rosario/9-50807-2015-08-28.html\" title=\"\"><span style=\"color:#028ccd\">Claudio Socolsky</span></a> </li>\n",
      "<li><a href=\"/diario/economia/2-280338-2015-08-28.html\" title=\"\"><span style=\"color:#8e8a7b\">Cristian Carrillo</span></a> </li>\n",
      "<li><a href=\"/diario/suplementos/soy/1-4146-2015-08-28.html\" title=\"\"><span style=\"color:#504f4f\">Cristina Civale</span></a> </li>\n",
      "<li><a href=\"/diario/suplementos/soy/1-4148-2015-08-28.html\" title=\"\"><span style=\"color:#028ccd\">Daniel Gigena</span></a> </li>\n",
      "<li><a href=\"/diario/suplementos/soy/subnotas/4145-524-2015-08-28.html\" title=\"\"><span style=\"color:#8e8a7b\">Daniel Link</span></a> </li>\n",
      "<li><a href=\"/diario/suplementos/espectaculos/5-36487-2015-08-28.html\" title=\"\"><span style=\"color:#504f4f\">Diego Brodersen</span></a> </li>\n",
      "<li><a href=\"/diario/suplementos/rosario/12-50802-2015-08-28.html\" title=\"\"><span style=\"color:#028ccd\">Edgardo Pérez Castillo</span></a> </li>\n",
      "<li><a href=\"/diario/elmundo/4-280328-2015-08-28.html\" title=\"\"><span style=\"color:#8e8a7b\">Eduardo Febbro</span></a> </li>\n",
      "<li><a href=\"/diario/suplementos/espectaculos/5-36489-2015-08-28.html\" title=\"\"><span style=\"color:#504f4f\">Ezequiel Boetti</span></a> </li>\n",
      "<li><a href=\"/diario/autores/flor_monfort/index-2015-08-28.html\" title=\"\"><span style=\"color:#028ccd\">Flor Monfort</span></a> </li>\n",
      "<li><a href=\"/diario/suplementos/soy/1-4160-2015-08-28.html\" title=\"\"><span style=\"color:#8e8a7b\">Gabriela Cabezón Cámara</span></a> </li>\n",
      "<li><a href=\"/diario/autores/guadalupe_treibel/index-2015-08-28.html\" title=\"\"><span style=\"color:#504f4f\">Guadalupe Treibel</span></a> </li>\n",
      "<li><a href=\"/diario/autores/horacio_bernades/index-2015-08-28.html\" title=\"\"><span style=\"color:#028ccd\">Horacio Bernades</span></a> </li>\n",
      "<li><a href=\"/diario/suplementos/soy/1-4157-2015-08-28.html\" title=\"\"><span style=\"color:#8e8a7b\">Ignacio DAmore</span></a> </li>\n",
      "<li><a href=\"/diario/elpais/1-280374-2015-08-28.html\" title=\"\"><span style=\"color:#504f4f\">Ignacio Jawtuschenko</span></a> </li>\n",
      "<li><a href=\"/diario/suplementos/rosario/9-50806-2015-08-28.html\" title=\"\"><span style=\"color:#028ccd\">José Maggi</span></a> </li>\n",
      "<li><a href=\"/diario/contratapa/13-280322-2015-08-28.html\" title=\"\"><span style=\"color:#8e8a7b\">Juan Forn</span></a> </li>\n",
      "<li><a href=\"/diario/suplementos/espectaculos/5-36488-2015-08-28.html\" title=\"\"><span style=\"color:#504f4f\">Juan Pablo Cinelli</span></a> </li>\n",
      "<li><a href=\"/diario/suplementos/las12/13-10008-2015-08-28.html\" title=\"\"><span style=\"color:#028ccd\">Julieta Saulo y Violeta Osorio</span></a> </li>\n",
      "<li><a href=\"/diario/suplementos/espectaculos/13-36486-2015-08-28.html\" title=\"\"><span style=\"color:#8e8a7b\">Karina Micheletto</span></a> </li>\n",
      "<li><a href=\"/diario/suplementos/las12/13-9999-2015-08-28.html\" title=\"\"><span style=\"color:#504f4f\">Laura Rosso</span></a> </li>\n",
      "<li><a href=\"/diario/suplementos/rosario/14-50799-2015-08-28.html\" title=\"\"><span style=\"color:#028ccd\">Leonel Giacometto</span></a> </li>\n",
      "<li><a href=\"/diario/autores/luciana_peker/index-2015-08-28.html\" title=\"\"><span style=\"color:#8e8a7b\">Luciana Peker</span></a> </li>\n",
      "<li><a href=\"/diario/suplementos/soy/1-4150-2015-08-28.html\" title=\"\"><span style=\"color:#504f4f\">Magdalena De Santo</span></a> </li>\n",
      "<li><a href=\"/diario/suplementos/las12/13-10004-2015-08-28.html\" title=\"\"><span style=\"color:#028ccd\">Malena Rey</span></a> </li>\n",
      "<li><a href=\"/diario/economia/2-280340-2015-08-28.html\" title=\"\"><span style=\"color:#8e8a7b\">Marcelo Justo</span></a> </li>\n",
      "<li><a href=\"/diario/suplementos/las12/13-10003-2015-08-28.html\" title=\"\"><span style=\"color:#504f4f\">Marina Yuszczuk</span></a> </li>\n",
      "<li><a href=\"/diario/suplementos/las12/13-9995-2015-08-28.html\" title=\"\"><span style=\"color:#028ccd\">Marta Dillon</span></a> </li>\n",
      "<li><a href=\"/diario/elmundo/4-280327-2015-08-28.html\" title=\"\"><span style=\"color:#8e8a7b\">Mercedes López San Miguel</span></a> </li>\n",
      "<li><a href=\"/diario/suplementos/soy/1-4145-2015-08-28.html\" title=\"\"><span style=\"color:#504f4f\">Miguel Rosetti</span></a> </li>\n",
      "<li><a href=\"/diario/elpais/1-280382-2015-08-28.html\" title=\"\"><span style=\"color:#028ccd\">Nicolás Lantos</span></a> </li>\n",
      "<li><a href=\"/diario/suplementos/espectaculos/5-36492-2015-08-28.html\" title=\"\"><span style=\"color:#8e8a7b\">Oscar Ranzani</span></a> </li>\n",
      "<li><a href=\"/diario/suplementos/rosario/9-50805-2015-08-28.html\" title=\"\"><span style=\"color:#504f4f\">Pablo Fornero</span></a> </li>\n",
      "<li><a href=\"/diario/elpais/1-280371-2015-08-28.html\" title=\"\"><span style=\"color:#028ccd\">Raúl Kollmann</span></a> </li>\n",
      "<li><a href=\"/diario/suplementos/las12/13-10009-2015-08-28.html\" title=\"\"><span style=\"color:#8e8a7b\">Roxana Sandá</span></a> </li>\n",
      "<li><a href=\"/diario/elpais/1-280376-2015-08-28.html\" title=\"\"><span style=\"color:#504f4f\">Sebastian Abrevaya</span></a> </li>\n",
      "<li><a href=\"/diario/suplementos/espectaculos/17-36490-2015-08-28.html\" title=\"\"><span style=\"color:#028ccd\">Sergio Sánchez</span></a> </li>\n",
      "<li><a href=\"/diario/suplementos/las12/13-10002-2015-08-28.html\" title=\"\"><span style=\"color:#8e8a7b\">Victoria Lescano</span></a> </li>\n",
      "<li><a href=\"/diario/elpais/1-280383-2015-08-28.html\" title=\"\"><span style=\"color:#504f4f\">Washington Uranga</span></a> </li>\n",
      "<li><a href=\"/diario/elpais/1-280375-2015-08-28.html\" title=\"\"><span style=\"color:#028ccd\">Werner Pertot</span></a> </li>\n",
      "<li><a href=\"/diario/suplementos/espectaculos/3-36491-2015-08-28.html\" title=\"\"><span style=\"color:#8e8a7b\">Yumber Vera Rojas</span></a> </li>\n",
      "</ul>\n",
      "</div>\n",
      "</div>\n",
      "<div id=\"pie\">\n",
      "<div id=\"menu_pie\">\n",
      "<ul>\n",
      "<li><a href=\"/diario/ultimas/index.html\" title=\"\">Ultimas noticias</a></li>\n",
      "<li><a href=\"/diario/principal/index.html\" title=\"\">Edicion impresa</a></li>\n",
      "<li><a href=\"/diario/suplementos/index.html\" title=\"\">Suplementos</a></li>\n",
      "<li><a href=\"/buscador/index.php\" title=\"\">Busqueda</a></li>\n",
      "<li><a href=\"/usuarios/publicidad.php\" title=\"\">Publicidad</a></li>\n",
      "<li><a href=\"/usuarios/institucional.php\" title=\"\">Institucional</a></li>\n",
      "<li><a href=\"/usuarios/correo.php\" title=\"\">Correo</a></li>\n",
      "<li><a href=\"/usuarios/rss.php\" title=\"\"><img alt=\"RSS\" src=\"/commons/imgs/rss-icon.gif\" style=\"position:relative;top:2px\"/> RSS</a></li>\n",
      "</ul>\n",
      "</div>\n",
      "<div id=\"logo_pie\">\n",
      "<p><a href=\"/\" title=\"Página/12 Web\"><img alt=\"Logo de Página/12\" src=\"/commons/imgs/logopie_pagina12.gif\"/></a></p>\n",
      "<p><img alt=\"Movil\" src=\"/commons/imgs/cellphone.gif\"/><strong>Desde su móvil acceda a través de <span class=\"cprincipal\"><a href=\"http://m.pagina12.com.ar\" title=\"versión para móviles\">http://m.pagina12.com.ar</a></span></strong></p>\n",
      "<p>© 2000-2015 www.pagina12.com.ar | República Argentina | <a href=\"/usuarios/politica_privacidad.php\" title=\"Política de privacidad\">Política de privacidad</a> | Todos los Derechos Reservados</p>\n",
      "<p>Sitio desarrollado con software libre <a href=\"http://es.wikipedia.org/wiki/GNU/Linux\" title=\"Sistema operativo GNU/Linux\">GNU/Linux</a>.</p>\n",
      "<p><a href=\"http://www.gigared.com.ar/empresas/index.php\" target=\"_blank\" title=\"Alojado en Gigared Data Center\"><img alt=\"Logo de Gigared\" src=\"/commons/imgs/logo_gigared_85x33px.png\"/></a></p>\n",
      "</div>\n",
      "</div>\n",
      "<div class=\"clear\"></div>\n",
      "<script type=\"text/javascript\">\n",
      "\tvar gaJsHost = ((\"https:\" == document.location.protocol) ? \"https://ssl.\" : \"http://www.\");\n",
      "\tdocument.write(unescape(\"%3Cscript src='\" + gaJsHost + \"google-analytics.com/ga.js' type='text/javascript'%3E%3C/script%3E\"));\n",
      "\t</script>\n",
      "<script type=\"text/javascript\">\n",
      "\tvar pageTracker = _gat._getTracker(\"UA-5077596-1\");\n",
      "\tpageTracker._initData();\n",
      "\tpageTracker._trackPageview();\n",
      "\t</script>\n",
      "</div>\n",
      "</body>\n",
      "</html>\n",
      "\n"
     ]
    }
   ],
   "source": [
    "print soup"
   ]
  },
  {
   "cell_type": "code",
   "execution_count": 6,
   "metadata": {
    "collapsed": false
   },
   "outputs": [
    {
     "name": "stdout",
     "output_type": "stream",
     "text": [
      "EL MUNDO › ENTREVISTA A MANUELA CARMENA, ALCALDESA DE LA CAPITAL ESPAÑOLA\n"
     ]
    }
   ],
   "source": [
    "print soup.find(class_='volanta').text"
   ]
  },
  {
   "cell_type": "code",
   "execution_count": 9,
   "metadata": {
    "collapsed": false
   },
   "outputs": [
    {
     "name": "stdout",
     "output_type": "stream",
     "text": [
      "Lo grave es que los medios mientan\n"
     ]
    }
   ],
   "source": [
    "print soup.find('h2').text"
   ]
  },
  {
   "cell_type": "code",
   "execution_count": 10,
   "metadata": {
    "collapsed": false
   },
   "outputs": [
    {
     "name": "stdout",
     "output_type": "stream",
     "text": [
      "Carmena, rostro de la nueva política en Madrid, reflexiona sobre los ataques de la prensa y plantea la necesidad de una reforma de la Justicia para que se puedan investigar los crímenes del franquismo.\n"
     ]
    }
   ],
   "source": [
    "print soup.find(class_='intro').text"
   ]
  },
  {
   "cell_type": "code",
   "execution_count": 11,
   "metadata": {
    "collapsed": false,
    "scrolled": true
   },
   "outputs": [
    {
     "name": "stdout",
     "output_type": "stream",
     "text": [
      "Con 71 años, polifacética y apacible, es la cara de la nueva política en Madrid. Consciente de ser una alternativa para una España donde los partidos tradicionales han perdido credibilidad, Manuela Carmena ocupa la alcaldía de la capital desde hace dos meses. Su plataforma ciudadana Ahora Madrid, que incluye a representantes del movimiento de los Indignados, agrupaciones de izquierda tradicional y la fuerza contestataria Podemos, rompió con la hegemonía del Partido Popular en una de las ciudades más conservadoras de España. Hasta ahora. Militante comunista en su juventud, Carmena forjó una vasta trayectoria en la Justicia como defensora de detenidos durante el franquismo, magistrada y cofundadora de la asociación progresista Jueces para la Democracia. Se autodefine ante todo como una mujer de izquierda y no se deja encorsetar con el mote de política profesional. Carmena vino a Buenos Aires a presentar su libro Por qué las cosas pueden ser diferentes (Ed. Capital Intelectual), estadía en la que incluyó un encuentro con la presidenta Cristina Fernández y una reunión para hoy con el jefe de Gobierno porteño y candidato Mauricio Macri. Orgullosa de haber declarado a Madrid una ciudad libre de desahucios (desalojos), en diálogo con Página/12, Carmena reflexiona sobre las nuevas formas de hacer política, la corrupción en España, la necesidad de una reforma de la Justicia y el gran desafío para su gestión, acabar con la desigualdad. Su bandera política ha sido ponerle fin a los desahucios. Sí, es una de ellas. Teníamos una serie de medidas urgentes: frenar los desahucios o desalojos como dicen aquí; mejorar los problemas de malnutrición de niños y crear puestos de trabajo para los jóvenes. Empezamos a repartir comida para que los niños no dejaran de tener comida en las vacaciones y los fines de semana, fuera del ámbito escolar. Los niños no comen lo que necesitan a causa de la situación económica de sus familias, que han tenido un descenso enorme de los salarios. Debemos buscar nuevos programas para activar el empleo. En la intendencia de Madrid hay agencias de empleo que son municipales y coexisten con las agencias estatales y que están fundamentalmente ubicadas en las zonas más vulnerables. Estamos empezando a desarrollar proyectos piloto de trabajo allí, llegando a acuerdos con empresas que estén dispuestas a contratar a jóvenes para darles una formación y emplearlos. ¿Cómo combatirá la corrupción? Pensamos que es muy importante la transparencia para combatir la corrupción y hemos desarrollado medidas en ese sentido, como por ejemplo que todos los ciudadanos puedan ver en una página de Internet dónde nos reunimos las personas del ayuntamiento. Vamos a proponer pronto que se cree la oficina contra el fraude. Queremos que sea un organismo que no dependa del equipo municipal, sino de todo el pleno del ayuntamiento para que sea muy independiente y objetivo y pueda ayudar a profundizar cuando haya denuncias concretas de cualquier ciudadano. La corrupción parece endémica en la clase política española. Sí. Ha afectado muchísimo al PP, con las dobles contabilidades, a las economías de los partidos y ha tenido mucha raíz con los contratos públicos. De ahí que tengamos una visión clara de se han hecho muchos contratos innecesarios. Hay muchas actividades que las pueden hacer los funcionarios del ayuntamiento, por ejemplo la información al público que en Madrid la brinda Línea Madrid; es un servicio privado. ¿Cómo es lidiar con una prensa conservadora como la de Madrid, que la critica por sus vacaciones, por la página web de transparencia, hasta por llevar una flor? Fue muy risueño el debate sobre la flor que llevaba en la playa y se argumentaba si era una flor protegida o no. Yo dije que si estaba protegida, que no lo sabía y que me pusieran una multa. Pero no lo estaba. En general cuando una persona modifica el establishment, cuando hace algo nuevo primero hay indiferencia y luego aparece la confrontación. Muchas de esas críticas son parte de la confrontación ante una realidad que estamos cambiando. ¿Siente que hay una campaña mediática en su contra? Creo que no. Adelante con las críticas bien instrumentadas. A mí me preocupa que se traspasen los criterios éticos. Pienso que la vida personal de un político puede tener interés para un ciudadano, y yo me someto y comprendo que hagan preguntas sobre mis vacaciones. Pero no me parece bien que den informaciones sin ninguna confrontación, que se digan mentiras. Lo grave es que se mienta, no que se informe sobre nosotros. Los medios tienen que informar con la verdad y siempre deben preguntar a la persona afectada. ¿Por qué en España no sólo no se investigan los crímenes del franquismo, también se obstruye la causa que lleva adelante la jueza argentina Servini de Cubría? La Justicia española no accedió a los pedidos de extradición contra veinte acusados, entre ellos ocho ex ministros. Yo creo profundamente en la Justicia universal, creo que es una gran conquista para hacer efectivos los derechos humanos y por tanto, cualquier paso que se dé en ese sentido me parece muy correcto. España ha sido criticada duramente por el Consejo de Derechos Humanos de Naciones Unidas por incumplir la obligación de investigar el franquismo. España debe rectificar. Muchos señalan que la Justicia responde al PP, y además el gobierno de Mariano Rajoy no tiene voluntad política de rectificar. Por supuesto que no hay voluntad política. El Poder Judicial tampoco cumple con las disposiciones del Consejo de Derechos Humanos de la ONU. Es una tarea pendiente. ¿Hace falta una reforma judicial? Sí, hay muchas cosas que hay que modificar, desde luego. Quizás una sea cómo implantar la ejecutividad en los tribunales de España de las resoluciones de los organismos de control de derechos humanos. Así como está claro que las decisiones del Tribunal Europeo de Derechos Humanos son de acatamiento obligado, y se han cumplido las sentencias en los tribunales españoles, también habría que contemplar las declaraciones del Consejo de Derechos Humanos de la ONU. La reforma necesaria es la que vincule la Justicia nacional con los presupuestos de los derechos humanos internacionales. En su libro, usted plantea como tesis una organización política sin partidos. ¿Cómo sería? Intento profundizar sobre cuál es el papel de los partidos políticos en las sociedades modernas actuales. Los procesos deliberativos se han burocratizado y cosificado. Pienso que tiene que haber nuevas estructuras de representación de la ciudadanía que hagan compatible una democracia directa junto con una representación de los intereses de los ciudadanos. Los partidos son demasiado generales, pretenden dar respuesta a todo desde la eutanasia, hasta el aborto, etc. Sería mejor la representación de los ciudadanos en proyectos concretos. Por ejemplo, para mejorar los medios de adopción de las parejas homosexuales o para mejorar los procesos de educación. El daño que hace la misma concepción del partido, como su nombre lo indica y se lo escuché decir a Juan Carlos Monedero (uno de los fundadores de Podemos), es una porción, que hacemos una raya. No estaría mal pensar en algo más interrelacionado. Nuestra capacidad de decisión queda sujeta a esa concepción dogmática del partido. Cada uno de nosotros es una posibilidad de cambio. El miércoles tuvo un encuentro con la presidenta Cristina Fernández. ¿De qué hablaron? Hablamos de cosas cotidianas, desde lo que yo había hecho cuando me jubilé de la judicatura, de la tienda social que yo había montado en Madrid (N. de la R.: al jubilarse creó una empresa sin fines de lucro que fabrica ropa para bebés, con el trabajo de las presas de Alcalá). También de mi libro. Ella me contó que acaba de tener una nieta y después hablamos de por qué yo había decidido liderar la candidatura de Ahora Madrid y de cómo se había desarrollado el proceso electoral. Fue interesante. En la reunión participó el ministro de Economía, Axel Kicillof. ¿Conversaron sobre la crisis española? De eso hablamos poco. Me preguntaron sobre el desempleo. Que en Madrid ronda el 16 por ciento... Está muy desnivelado según los barrios. En los barrios más vulnerables, los del sur, el desempleo supera el 20 por ciento, y hay mucha diferencia con los sectores ricos. ¿Va a tener un encuentro con Mauricio Macri? -Sí, mañana (por hoy). Estoy interesadísima porque Macri y yo somos presidentes de la UCCI (Unión de Ciudades Capitales Iberoamericanas). Con él estamos en la misma organización, no podía dejar de visitarle. Europa ha mirado con cierta crítica los procesos progresistas en América latina. ¿Cuál es su visión? Desde España se necesita más comunicación con América latina, seguimos teniendo una visión no lo suficientemente amplia. ¿Qué opina de la situación en Grecia? No soy politóloga para opinar sobre la cuestión política. Desde el punto de vista humano, Europa tiene que ayudar a Grecia; cada europeo debería pedir que no se destroce a Grecia, que no puede pagar la deuda. Casi como un proceso de solidaridad civil. mercelopez@pagina12.com.ar\n"
     ]
    }
   ],
   "source": [
    "print soup.find(id='cuerpo').text"
   ]
  },
  {
   "cell_type": "code",
   "execution_count": 37,
   "metadata": {
    "collapsed": false
   },
   "outputs": [
    {
     "name": "stdout",
     "output_type": "stream",
     "text": [
      "http://www.pagina12.com.ar/diario/elmundo/4-280327-2015-08-28.html\n",
      "28\n",
      "08\n",
      "2015\n"
     ]
    }
   ],
   "source": [
    "print article_link\n",
    "start_pos_day = int(len(article_link)-7)\n",
    "end_pos = start_pos_day+2\n",
    "day = article_link[start_pos_day:end_pos]\n",
    "print day\n",
    "\n",
    "start_pos_month = int(len(article_link)-10)\n",
    "end_pos = start_pos_month+2\n",
    "month = article_link[start_pos_month:end_pos]\n",
    "print month\n",
    "#year = \n",
    "\n",
    "start_pos_year = int(len(article_link)-15)\n",
    "end_pos = start_pos_year+4\n",
    "year = article_link[start_pos_year:end_pos]\n",
    "print year\n",
    "\n",
    "\n",
    "#''.join(reversed(foo[0:4]))\n",
    "\n",
    "#www.pagina12.com.ar/diario/ultimas/20-280393-2015-08-28.html"
   ]
  },
  {
   "cell_type": "code",
   "execution_count": 48,
   "metadata": {
    "collapsed": false
   },
   "outputs": [
    {
     "name": "stdout",
     "output_type": "stream",
     "text": [
      "2015/08/28\n",
      "2015-08-28 00:00:00\n"
     ]
    }
   ],
   "source": [
    "from datetime import datetime\n",
    "\n",
    "date_str = year+\"/\"+month+\"/\"+day\n",
    "print date_str\n",
    "date_object = datetime.strptime(date_str, '%Y/%m/%d')\n",
    "print date_object"
   ]
  },
  {
   "cell_type": "code",
   "execution_count": null,
   "metadata": {
    "collapsed": true
   },
   "outputs": [],
   "source": []
  }
 ],
 "metadata": {
  "kernelspec": {
   "display_name": "Python 2",
   "language": "python",
   "name": "python2"
  },
  "language_info": {
   "codemirror_mode": {
    "name": "ipython",
    "version": 2
   },
   "file_extension": ".py",
   "mimetype": "text/x-python",
   "name": "python",
   "nbconvert_exporter": "python",
   "pygments_lexer": "ipython2",
   "version": "2.7.10"
  }
 },
 "nbformat": 4,
 "nbformat_minor": 0
}
