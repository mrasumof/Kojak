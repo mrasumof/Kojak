{
 "cells": [
  {
   "cell_type": "code",
   "execution_count": 1,
   "metadata": {
    "collapsed": false
   },
   "outputs": [
    {
     "name": "stdout",
     "output_type": "stream",
     "text": [
      "Database(MongoClient('52.25.140.201', 27017), u'ProjectCorruption')\n",
      "Collection(Database(MongoClient('52.25.140.201', 27017), u'ProjectCorruption'), u'Links_to_articles')\n"
     ]
    }
   ],
   "source": [
    "import time\n",
    "import requests\n",
    "import json\n",
    "from selenium.webdriver.support.ui import Select\n",
    "from bs4 import BeautifulSoup\n",
    "from selenium import webdriver\n",
    "from selenium.webdriver.common.keys import Keys\n",
    "from requests.exceptions import ConnectionError\n",
    "\n",
    "import pymongo\n",
    "from pymongo import MongoClient\n",
    "client = MongoClient(\"52.25.140.201\",27017)\n",
    "db = client['ProjectCorruption']\n",
    "print db\n",
    "collection = db['Links_to_articles']\n",
    "print collection\n",
    "\n",
    "starting_point = 0"
   ]
  },
  {
   "cell_type": "code",
   "execution_count": 2,
   "metadata": {
    "collapsed": false
   },
   "outputs": [],
   "source": [
    "from selenium import webdriver\n",
    "from selenium.webdriver.common.keys import Keys\n",
    "import time\n",
    "\n",
    "chrome = webdriver.Chrome()\n",
    "\n",
    "infobae_url = \"http://search.infobae.com/corrupcion\"\n",
    "\n",
    "chrome.get(infobae_url)"
   ]
  },
  {
   "cell_type": "code",
   "execution_count": 3,
   "metadata": {
    "collapsed": true
   },
   "outputs": [],
   "source": [
    "page = chrome.page_source"
   ]
  },
  {
   "cell_type": "code",
   "execution_count": 4,
   "metadata": {
    "collapsed": false
   },
   "outputs": [],
   "source": [
    "soup = BeautifulSoup(page)"
   ]
  },
  {
   "cell_type": "code",
   "execution_count": 5,
   "metadata": {
    "collapsed": false,
    "scrolled": true
   },
   "outputs": [
    {
     "name": "stdout",
     "output_type": "stream",
     "text": [
      "http://www.infobae.com/2015/09/01/1752163-domingo-amaya-en-tucuman-rige-la-impunidad\n",
      "http://www.infobae.com/2015/08/31/1752145-ejecutivo-brasileno-aseguro-que-odebrecht-dirigia-el-cartel-empresas-que-operaba-petrobras\n",
      "http://www.infobae.com/2015/08/31/1752095-peru-comision-parlamentaria-recomienda-investigar-la-primera-dama-corrupcion\n",
      "http://www.infobae.com/2015/08/31/1752050-corrupcion-guatemala-otto-perez-pidio-un-amparo-impedir-que-le-quiten-la-inmunidad\n",
      "http://www.infobae.com/2015/08/31/1752048-ricardo-arjona-pidio-la-renuncia-del-presidente-guatemala\n",
      "5\n"
     ]
    }
   ],
   "source": [
    "a = soup.find_all(class_='entry-title url')\n",
    "count = 0\n",
    "for each in range(len(a)):\n",
    "    print a[each]['href']\n",
    "    count += 1\n",
    "            \n",
    "print count\n",
    "            \n",
    "    "
   ]
  },
  {
   "cell_type": "code",
   "execution_count": 9,
   "metadata": {
    "collapsed": false
   },
   "outputs": [
    {
     "name": "stdout",
     "output_type": "stream",
     "text": [
      "<selenium.webdriver.remote.webelement.WebElement object at 0x108231890>\n"
     ]
    }
   ],
   "source": [
    "search_button = chrome.find_element_by_class_name('vermasnoticias')\n",
    "search_button.click()\n",
    "print search_button"
   ]
  },
  {
   "cell_type": "code",
   "execution_count": 12,
   "metadata": {
    "collapsed": false
   },
   "outputs": [
    {
     "name": "stdout",
     "output_type": "stream",
     "text": [
      "<selenium.webdriver.remote.webelement.WebElement object at 0x108231810>\n"
     ]
    }
   ],
   "source": [
    "search_button = chrome.find_element_by_class_name('b-next')\n",
    "print search_button\n",
    "search_button.click()"
   ]
  },
  {
   "cell_type": "code",
   "execution_count": 15,
   "metadata": {
    "collapsed": false
   },
   "outputs": [],
   "source": [
    "chrome.close()"
   ]
  },
  {
   "cell_type": "code",
   "execution_count": 6,
   "metadata": {
    "collapsed": false,
    "scrolled": true
   },
   "outputs": [
    {
     "name": "stdout",
     "output_type": "stream",
     "text": [
      "Database(MongoClient('52.25.140.201', 27017), u'ProjectCorruption')\n",
      "Collection(Database(MongoClient('52.25.140.201', 27017), u'ProjectCorruption'), u'Links_to_articles')\n",
      "Keyword:corrupcion\n",
      "Link passed: http://www.infobae.com/2015/09/01/1752163-domingo-amaya-en-tucuman-rige-la-impunidad\n",
      "Link passed: http://www.infobae.com/2015/08/31/1752145-ejecutivo-brasileno-aseguro-que-odebrecht-dirigia-el-cartel-empresas-que-operaba-petrobras\n",
      "Link passed: http://www.infobae.com/2015/08/31/1752095-peru-comision-parlamentaria-recomienda-investigar-la-primera-dama-corrupcion\n",
      "Link passed: http://www.infobae.com/2015/08/31/1752050-corrupcion-guatemala-otto-perez-pidio-un-amparo-impedir-que-le-quiten-la-inmunidad\n",
      "Link passed: http://www.infobae.com/2015/08/31/1752048-ricardo-arjona-pidio-la-renuncia-del-presidente-guatemala\n"
     ]
    },
    {
     "ename": "TypeError",
     "evalue": "uniform() takes exactly 3 arguments (2 given)",
     "output_type": "error",
     "traceback": [
      "\u001b[0;31m---------------------------------------------------------------------------\u001b[0m",
      "\u001b[0;31mTypeError\u001b[0m                                 Traceback (most recent call last)",
      "\u001b[0;32m<ipython-input-6-d566e94179cc>\u001b[0m in \u001b[0;36m<module>\u001b[0;34m()\u001b[0m\n\u001b[1;32m     59\u001b[0m                 \u001b[0;32mprint\u001b[0m \u001b[0;34m'Link passed:'\u001b[0m\u001b[0;34m,\u001b[0m\u001b[0marticle_link\u001b[0m\u001b[0;34m\u001b[0m\u001b[0m\n\u001b[1;32m     60\u001b[0m \u001b[0;34m\u001b[0m\u001b[0m\n\u001b[0;32m---> 61\u001b[0;31m         \u001b[0mwait_time\u001b[0m \u001b[0;34m=\u001b[0m \u001b[0mrandom\u001b[0m\u001b[0;34m.\u001b[0m\u001b[0muniform\u001b[0m\u001b[0;34m(\u001b[0m\u001b[0;36m4\u001b[0m\u001b[0;34m)\u001b[0m\u001b[0;34m\u001b[0m\u001b[0m\n\u001b[0m\u001b[1;32m     62\u001b[0m         \u001b[0mchrome\u001b[0m\u001b[0;34m.\u001b[0m\u001b[0mimplicitly_wait\u001b[0m\u001b[0;34m(\u001b[0m\u001b[0mwait_time\u001b[0m\u001b[0;34m)\u001b[0m\u001b[0;34m\u001b[0m\u001b[0m\n\u001b[1;32m     63\u001b[0m \u001b[0;34m\u001b[0m\u001b[0m\n",
      "\u001b[0;31mTypeError\u001b[0m: uniform() takes exactly 3 arguments (2 given)"
     ]
    }
   ],
   "source": [
    "import time\n",
    "import requests\n",
    "import json\n",
    "import random\n",
    "from selenium.webdriver.support.ui import Select\n",
    "from bs4 import BeautifulSoup\n",
    "from selenium import webdriver\n",
    "from selenium.webdriver.common.keys import Keys\n",
    "from requests.exceptions import ConnectionError\n",
    "from selenium.common.exceptions import NoSuchElementException\n",
    "import pymongo\n",
    "from pymongo import MongoClient\n",
    "\n",
    "client = MongoClient(\"52.25.140.201\",27017)\n",
    "db = client['ProjectCorruption']\n",
    "print db\n",
    "collection = db['Links_to_articles']\n",
    "print collection\n",
    "\n",
    "starting_point = 0\n",
    "total_added = 0\n",
    "count = 0\n",
    "\n",
    "list_of_keywords = ['corrupcion','corrupto','corrupta','cohecho','soborno','coima','enriquecimiento-ilicito',\\\n",
    "                   '\"conflicto-de-interes\"','nepotismo','fraude','compra-de-votos','clientelismo']\n",
    "\n",
    "chrome = webdriver.Chrome()\n",
    "\n",
    "for keyword in list_of_keywords:\n",
    "\n",
    "    infobae_url = \"http://search.infobae.com/\"+keyword\n",
    "    \n",
    "    print \"Keyword:\"+keyword\n",
    "\n",
    "    response = chrome.get(infobae_url)\n",
    "\n",
    "    first_page = True\n",
    "\n",
    "    while True:\n",
    "\n",
    "        \n",
    "        page = chrome.page_source\n",
    "        soup = BeautifulSoup(page)\n",
    "\n",
    "        a = soup.find_all(class_='entry-title url')\n",
    "        for each in range(len(a)):\n",
    "\n",
    "            article_link = a[each]['href']\n",
    "            count += 1\n",
    "\n",
    "            exist = collection.find_one({\"link\": article_link, \"source\":\"Infobae\"})\n",
    "            if exist == None:\n",
    "                article_source = \"Infobae\"\n",
    "                article_object = {\"link\":article_link, \"source\":article_source, \"parsed\":\"N\"}\n",
    "                article_id = collection.insert_one(article_object)\n",
    "                total_added += 1\n",
    "                print 'Link added:',article_link\n",
    "                print 'Total added:',str(total_added)\n",
    "            else:\n",
    "                print 'Link passed:',article_link\n",
    "        \n",
    "        #wait_time = random.uniform(4)\n",
    "        chrome.implicitly_wait(3)\n",
    "\n",
    "        if first_page:\n",
    "            try:\n",
    "                search_button = chrome.find_element_by_class_name('vermasnoticias')\n",
    "            except NoSuchElementException:\n",
    "                break\n",
    "            except ElementNotVisibleException:\n",
    "                break\n",
    "            else:    \n",
    "                search_button.click()\n",
    "                first_page = False\n",
    "        else:\n",
    "            try:\n",
    "                search_button = chrome.find_element_by_class_name('b-next')\n",
    "            except NoSuchElementException:\n",
    "                break\n",
    "            except ElementNotVisibleException:\n",
    "                break\n",
    "            else:    \n",
    "                search_button.click()\n",
    "           "
   ]
  },
  {
   "cell_type": "code",
   "execution_count": null,
   "metadata": {
    "collapsed": true
   },
   "outputs": [],
   "source": [
    "search_button = chrome.find_element_by_class_name('b-next')"
   ]
  }
 ],
 "metadata": {
  "kernelspec": {
   "display_name": "Python 2",
   "language": "python",
   "name": "python2"
  },
  "language_info": {
   "codemirror_mode": {
    "name": "ipython",
    "version": 2
   },
   "file_extension": ".py",
   "mimetype": "text/x-python",
   "name": "python",
   "nbconvert_exporter": "python",
   "pygments_lexer": "ipython2",
   "version": "2.7.10"
  }
 },
 "nbformat": 4,
 "nbformat_minor": 0
}
