{
 "cells": [
  {
   "cell_type": "code",
   "execution_count": 5,
   "metadata": {
    "collapsed": false
   },
   "outputs": [
    {
     "name": "stdout",
     "output_type": "stream",
     "text": [
      "Collection(Database(MongoClient('52.25.140.201', 27017), u'ProjectCorruption'), u'Links_to_articles')\n",
      "Collection(Database(MongoClient('52.25.140.201', 27017), u'ProjectCorruption'), u'Articles')\n",
      "Collection(Database(MongoClient('52.25.140.201', 27017), u'ProjectCorruption'), u'Parsed_Articles')\n"
     ]
    }
   ],
   "source": [
    "import pymongo\n",
    "from pymongo import MongoClient\n",
    "from requests.exceptions import ConnectionError\n",
    "from bs4 import BeautifulSoup\n",
    "import requests\n",
    "import time\n",
    "\n",
    "client = MongoClient(\"52.25.140.201\",27017)\n",
    "db = client['ProjectCorruption']\n",
    "\n",
    "coll_articles = db['Articles']\n",
    "coll_links = db['Links_to_articles']\n",
    "coll_parsed = db['Parsed_Articles']\n",
    "\n",
    "print coll_links\n",
    "print coll_articles\n",
    "print coll_parsed"
   ]
  },
  {
   "cell_type": "code",
   "execution_count": 6,
   "metadata": {
    "collapsed": false
   },
   "outputs": [
    {
     "name": "stdout",
     "output_type": "stream",
     "text": [
      "200\n"
     ]
    }
   ],
   "source": [
    "article_link = \"http://www.perfil.com/cultura/Literatura-y-compromiso-20150829-0061.html\"\n",
    "response = requests.get(article_link)\n",
    "print response.status_code"
   ]
  },
  {
   "cell_type": "code",
   "execution_count": 7,
   "metadata": {
    "collapsed": false
   },
   "outputs": [],
   "source": [
    "page = response.text\n",
    "soup = BeautifulSoup(page)"
   ]
  },
  {
   "cell_type": "code",
   "execution_count": 9,
   "metadata": {
    "collapsed": false
   },
   "outputs": [
    {
     "name": "stdout",
     "output_type": "stream",
     "text": [
      "Literatura y compromiso\n"
     ]
    }
   ],
   "source": [
    "print soup.find('h1').text #titulo"
   ]
  },
  {
   "cell_type": "code",
   "execution_count": 22,
   "metadata": {
    "collapsed": false
   },
   "outputs": [
    {
     "name": "stdout",
     "output_type": "stream",
     "text": [
      "2015-08-29\n"
     ]
    }
   ],
   "source": [
    "print soup.find('time')['datetime'] #date"
   ]
  },
  {
   "cell_type": "code",
   "execution_count": 15,
   "metadata": {
    "collapsed": false
   },
   "outputs": [
    {
     "name": "stdout",
     "output_type": "stream",
     "text": [
      "Licenciado en Filología Hispánica, es uno de los críticos y editores más prestigiosos de España. Fue director de la editorial Debate y actualmente desempeña la dirección literaria del sello Caballo de Troya. La cena de los notables, su libro de ensayos, aparecerá en estos días en las librerías.\n",
      "\t\t\t\t\t\t\t\t\t\n",
      "\t\t\t\t\t\t\t\t\t\n"
     ]
    }
   ],
   "source": [
    "print soup.find('h3').text #sub-title"
   ]
  },
  {
   "cell_type": "code",
   "execution_count": 16,
   "metadata": {
    "collapsed": false,
    "scrolled": true
   },
   "outputs": [
    {
     "name": "stdout",
     "output_type": "stream",
     "text": [
      "Constantino Bértolo Cadenas es tal vez uno de los editores más experimentados y singulares de la escena editorial española. Miembro de la resistencia antifranquista y activo militante de una literatura comprometida, en sus más de treinta años en el oficio (hoy está jubilado) libró sus batallas en editoriales como Debate o Caballo de Troya, el sello de Random House desde donde apostó a narrativas o propuestas ajenas al mainstream (ha editado, entre otros, a quien ahora termina editándolo a él: Damián Tabarovsky), apuesta que también llevó a cabo desde la crítica literaria que ha ejercido en medios como El País o la revista El Urogallo.\n",
      "En La cena de los notables, ensayo publicado en España en 2008 y editado ahora por Mardulce, Bértolo reacomoda las piezas del mundillo literario y va contra algunos de sus lugares comunes: el lector como Robinson aislado y autosuficiente, la lectura como diálogo íntimo entre autor y lector, el crítico como mediador entre ambos. Desde una perspectiva marxista, o neomarxista, se opone al pacto de ficción del que hablaron teóricos como Umberto Eco (“El texto no es un sujeto con voluntad propia, no tiene capacidad de negociar con el lector”, me dirá después), y propone en cambio un “pacto de responsabilidad” en virtud del cual el escritor debe apartarse de la poética hegemónica que interpela al lector como cliente y asumir el compromiso que deriva de la utilización de la palabra pública que la comunidad le cede. Durante el desarrollo de la lectura, afirma en el libro, no se produce una “suspensión del juicio”; al contrario: “La lectura requiere mantener y utilizar nuestra capacidad para enjuiciar conductas”, sostiene. Desde ese punto de partida, y recurriendo a textos de Flaubert, London o Stevenson, esboza una teoría de la lectura en algunos puntos similar a la de las estéticas de la recepción, pero radicalmente distinta en sus postulados básicos.\n",
      "El libro, que ya ha sido editado también en Brasil y en Serbia y de a poco se va convirtiendo en una obra de referencia para la teoría y la crítica literaria contemporáneas, entre otras cosas permite repensar y resignificar una cuestión que hoy ya no se discute: el compromiso del escritor, pero también el del lector, el del crítico y el del editor. En poco tiempo, Bértolo estará en Argentina invitado por el Filba Internacional, y aprovechará la ocasión para presentarlo.\n",
      "—En el libro se advierte un énfasis en la capacidad de enjuiciar conductas que promueve la lectura literaria, y eso lo lleva a proponer una “literatura de argumentos” y a postular como ideal un “narrador democrático” que brinde toda la información posible para que el lector establezca libremente un juicio crítico. Ahora bien, ¿no está acaso atribuyéndole a la novela, que es el género en el que usted se detiene, un objetivo de persuasión parecido al de otro tipo de discursos?\n",
      "—Defiendo la figura del “narrador democrático” porque entiendo que en una narración lo que se nos propone es “compartir –desde adentro– una experiencia de interés humano”. Toda novela es una especie de juicio civil en el que se nos da cuenta de las conductas de los personajes. Desde ese entendimiento planteo la necesidad de que se nos ofrezcan a los lectores todas las claves y argumentos posibles que explican esas conductas a fin de que podamos decidir sobre lo que en la narración se argumenta. Esto no implica que sólo las narraciones democráticas sean las buenas y que sólo ellas debieran existir. No se trata de plantear esto como una exigencia. Entiendo que la novela y sus lecturas implican la necesidad de introducir estrategias de seducción como el suspenso o la cursilería sentimental o intelectual, pero también defiendo que los lectores debemos analizar con qué tipo de seducción nos estamos encontrando. No vaya a ser que de la “suspensión del juicio” resulte un embarazo no deseado (aunque ciertamente los modernos anticonceptivos han rebajado notablemente estos peligros). No defiendo la lectura con preservativo, pero tampoco me parece adecuado andar por la vida literaria con los ojos cerrados.\n",
      "—Respecto de la práctica de lectura silenciosa que se extiende a partir de la imprenta, usted afirma que ha producido la ilusión de que la literatura no es más que un “diálogo de intimidades” y que ha hecho que el pacto de responsabilidad se diluya. Sin embargo, ¿no ha tenido algún efecto positivo? Pienso, por ejemplo, en las transformaciones cognitivas de las que habla Walter Ong.\n",
      "—Sin duda que la lectura silenciosa ha supuesto el desarrollo de facultades muy importantes. Baste con señalar, como hacen Ong y otros, que es la escritura y su contracara, la lectura silenciosa, lo que permite la aparición de “el estudio” como actividad fundamental de lo que hoy llamamos condición humana. Pero como toda tecnología, también conlleva peligros; por ejemplo, esa tentación de “sentirnos divinos” y por tanto autosuficientes, inefables o incomprendidos. Entiendo que la llamada “vida interior”, ese concepto tan nefasto desde mi punto de vista, es consecuencia en buena parte de esa actividad lectora en soledad. La vida interior como la única vida auténtica, una “autenticidad” sólo comparable con la que curiosamente se le otorga también al sexo. Pero así como en el sexo está “el otro” –incluso en la masturbación–, en la lectura están siempre los otros, los significados compartidos, el lenguaje común, además del editor, el crítico, la educación y demás instancias que intervienen en la lectura.\n",
      "En relación con el crítico, Bértolo sostiene que su lugar no está entre el autor y el lector, como se suele creer, sino entre éste y la propuesta editorial, que es lo que en definitiva termina juzgando. Quien ejerza esa actividad, afirma en el libro, debe ser capaz de “leer su lectura”, es decir, poner sobre la mesa –y no sobre la mesa de los notables, por cierto– los supuestos metaliterarios e ideológicos desde los que lee, y analizar si los textos son positivos para la “salud semántica de la comunidad”. Aunque reconoce que actualmente el género, la crítica, se acerca cada vez más a la publicidad encubierta: el crítico, como parte del mercado literario –muchas veces autor él también–, termina produciendo meras “mercancías con valor de cambio para sobrevivir en el duro juego de la oferta y la demanda cultural”.\n",
      "—¿Qué posibilidades hay hoy para una crítica que se oponga a los discursos del poder?\n",
      "—Pocas, porque los espacios culturales conservadores hegemonizan actualmente los medios de expresión donde la crítica se produce, mientras que los grupos que proponen un entendimiento de lo literario diferente apenas tienen visibilidad y reconocimiento y, cuando lo alcanzan, pronto son acusados de dogmatismo, estalinismo cultural, ignorancia o politicismo por parte de los dogmáticamente antidogmáticos, los defensores del realismo socialdemócrata, los que venden su sabiduría en el mercado cultural o los que piensan que la política intoxica el arte. En función de esto cabe pensar que la posibilidad de una crítica que se oponga a los discursos del poder dependerá proporcionalmente de a qué clase de poder se oponga, del grado de radicalidad o insistencia con que lo haga y de los medios materiales de producción y expresión de los que disponga.\n",
      "—¿Sigue siendo posible, tanto para el crítico como para el escritor, encontrar legitimidad fuera del mercado?\n",
      "—La legitimidad es un concepto que remite a su vez al concepto de comunidad en cuanto instancia con capacidad para legitimar el uso de las palabras colectivas. El problema es que en sociedades divididas en clases, como la nuestra, es la correlación de fuerzas la que determina el poder para homologar o legitimar, y, en la actual correlación de fuerzas, es la clase que se identifica con los valores del mercado capitalista la que detenta y usa ese poder de manera hegemónica. Pero la hegemonía no debe identificarse con la totalidad ni debe entenderse que no crea y encuentra tensiones y discrepancias que a su vez producen espacios sociales o culturales que no aceptan esos valores. Cierto que esas otras instancias son hoy escasas, débiles y tienen poca capacidad para intervenir en el conjunto social pero, así como algunos entienden que la universidad o la academia se mueven con otros valores y por lo tanto tienen capacidad para legitimar más allá o más acá del mercado, también podríamos sostener que hay espacios sociopolíticos que rechazan y combaten esa insidiosa usurpación de lo legítimo que el mercado pretende monopolizar.\n",
      "—¿Pero no terminan mercantilizándose incluso los espacios de resistencia?\n",
      "—El problema, efectivamente, es que esos posibles espacios, en los que cabría incluir determinados espacios religiosos, apenas poseen medios de producción y expresión propios, y apenas ocupan territorios sociales representativos y con capacidad para reconocerse y visualizarse sin tener que recurrir al mercado capitalista, por lo que acaban viéndose obligados a convivir con las manos visibles que lo manejan, resultando muy difícil no ser abducido. A ese respecto, me parece bastante oportuno reflexionar sobre propuestas como la del “cinismo ético” de Luis Camnitzer en tanto estructura moral basada en “la idea de que prostituirse a sabiendas es mejor que prostituirse inconscientemente. En el primer caso es estrategia, en el segundo es corrupción”.\n",
      "—¿Cómo ve el panorama editorial hoy en día?\n",
      "—En España me sigue llamando la atención que las nuevas editoriales independientes no centren la construcción de sus catálogos en la búsqueda y la edición de nuevos autores en lengua castellana, sino, de manera mayoritaria, en traducciones de autores de otras lenguas y ya homologados. En ese sentido, no dejo de admirar las líneas de las nuevas editoriales independientes de Argentina, Chile, México, Bolivia o Uruguay y otros países latinoamericanos que buscan, y encuentran, literaturas más arriesgadas e interesantes que las que se producen en la madrastra patria.\n",
      "\n"
     ]
    }
   ],
   "source": [
    "print soup.find(itemprop='articleBody').text"
   ]
  },
  {
   "cell_type": "code",
   "execution_count": null,
   "metadata": {
    "collapsed": true
   },
   "outputs": [],
   "source": []
  },
  {
   "cell_type": "code",
   "execution_count": 37,
   "metadata": {
    "collapsed": false
   },
   "outputs": [
    {
     "name": "stdout",
     "output_type": "stream",
     "text": [
      "http://www.pagina12.com.ar/diario/elmundo/4-280327-2015-08-28.html\n",
      "28\n",
      "08\n",
      "2015\n"
     ]
    }
   ],
   "source": [
    "print article_link\n",
    "start_pos_day = int(len(article_link)-7)\n",
    "end_pos = start_pos_day+2\n",
    "day = article_link[start_pos_day:end_pos]\n",
    "print day\n",
    "\n",
    "start_pos_month = int(len(article_link)-10)\n",
    "end_pos = start_pos_month+2\n",
    "month = article_link[start_pos_month:end_pos]\n",
    "print month\n",
    "#year = \n",
    "\n",
    "start_pos_year = int(len(article_link)-15)\n",
    "end_pos = start_pos_year+4\n",
    "year = article_link[start_pos_year:end_pos]\n",
    "print year\n",
    "\n",
    "\n",
    "#''.join(reversed(foo[0:4]))\n",
    "\n",
    "#www.pagina12.com.ar/diario/ultimas/20-280393-2015-08-28.html"
   ]
  },
  {
   "cell_type": "code",
   "execution_count": 48,
   "metadata": {
    "collapsed": false
   },
   "outputs": [
    {
     "name": "stdout",
     "output_type": "stream",
     "text": [
      "2015/08/28\n",
      "2015-08-28 00:00:00\n"
     ]
    }
   ],
   "source": [
    "from datetime import datetime\n",
    "\n",
    "date_str = year+\"/\"+month+\"/\"+day\n",
    "print date_str\n",
    "date_object = datetime.strptime(date_str, '%Y/%m/%d')\n",
    "print date_object"
   ]
  },
  {
   "cell_type": "code",
   "execution_count": null,
   "metadata": {
    "collapsed": true
   },
   "outputs": [],
   "source": []
  }
 ],
 "metadata": {
  "kernelspec": {
   "display_name": "Python 2",
   "language": "python",
   "name": "python2"
  },
  "language_info": {
   "codemirror_mode": {
    "name": "ipython",
    "version": 2
   },
   "file_extension": ".py",
   "mimetype": "text/x-python",
   "name": "python",
   "nbconvert_exporter": "python",
   "pygments_lexer": "ipython2",
   "version": "2.7.10"
  }
 },
 "nbformat": 4,
 "nbformat_minor": 0
}
