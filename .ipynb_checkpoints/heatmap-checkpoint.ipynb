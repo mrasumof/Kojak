{
 "cells": [
  {
   "cell_type": "code",
   "execution_count": 1,
   "metadata": {
    "collapsed": true
   },
   "outputs": [],
   "source": [
    "from pymongo import MongoClient\n",
    "from bson.son import SON\n",
    "from textblob import TextBlob\n",
    "from dateutil import parser\n",
    "import pymongo\n",
    "import pandas as pd\n",
    "import matplotlib.pyplot as plt\n",
    "\n",
    "%matplotlib inline\n",
    "\n",
    "client = MongoClient(\"52.25.140.201\",27017)\n",
    "db = client['ProjectCorruption']\n",
    "coll_parsed = db['Parsed_Articles']"
   ]
  },
  {
   "cell_type": "code",
   "execution_count": 2,
   "metadata": {
    "collapsed": true
   },
   "outputs": [],
   "source": [
    "from_year = '01/01/2014'\n",
    "to_year = '12/31/2014'\n",
    "from_year_d = parser.parse(from_year)\n",
    "to_year_d = parser.parse(to_year)"
   ]
  },
  {
   "cell_type": "code",
   "execution_count": 40,
   "metadata": {
    "collapsed": false
   },
   "outputs": [
    {
     "name": "stdout",
     "output_type": "stream",
     "text": [
      "2014-01-01 00:00:00\n",
      "2014-12-31 00:00:00\n",
      "<type 'datetime.datetime'>\n",
      "<type 'datetime.datetime'>\n"
     ]
    }
   ],
   "source": [
    "from bson.son import SON\n",
    "\n",
    "print from_year_d\n",
    "print to_year_d\n",
    "print type(from_year_d)\n",
    "print type(to_year_d)\n",
    "\n",
    "pipeline = [{\"$unwind\": \"$names\"},\n",
    "            {\"$match\": {\"date\": {\"$gte\":from_year_d}, \"date\": {\"$lte\":to_year_d}}},\\\n",
    "            {\"$group\": {\"_id\": {\"source\":\"$source\", \"name\":\"$names\"}, \"totkeywords\": {\"$sum\": \"$tot_keywords\"}}}]\n",
    "\n",
    "output_list = coll_parsed.aggregate(pipeline)\n",
    "\n",
    "# output_list = coll_parsed.find({})\n",
    "\n",
    "#for each in output_list.result:\n",
    "#    print each['source']+\"-\"+each['name']+str(each['totkeywords'])"
   ]
  },
  {
   "cell_type": "code",
   "execution_count": 18,
   "metadata": {
    "collapsed": false
   },
   "outputs": [
    {
     "name": "stdout",
     "output_type": "stream",
     "text": [
      "8402\n"
     ]
    }
   ],
   "source": [
    "\n",
    "print coll_parsed.find({\"date\": {\"$gte\":from_year_d}, \"date\": {\"$lte\":to_year_d}}).count()\n"
   ]
  },
  {
   "cell_type": "code",
   "execution_count": null,
   "metadata": {
    "collapsed": true
   },
   "outputs": [],
   "source": []
  }
 ],
 "metadata": {
  "kernelspec": {
   "display_name": "Python 2",
   "language": "python",
   "name": "python2"
  },
  "language_info": {
   "codemirror_mode": {
    "name": "ipython",
    "version": 2
   },
   "file_extension": ".py",
   "mimetype": "text/x-python",
   "name": "python",
   "nbconvert_exporter": "python",
   "pygments_lexer": "ipython2",
   "version": "2.7.10"
  }
 },
 "nbformat": 4,
 "nbformat_minor": 0
}
