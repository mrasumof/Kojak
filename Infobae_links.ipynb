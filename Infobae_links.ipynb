{
 "cells": [
  {
   "cell_type": "code",
   "execution_count": 1,
   "metadata": {
    "collapsed": false
   },
   "outputs": [
    {
     "name": "stdout",
     "output_type": "stream",
     "text": [
      "Database(MongoClient('52.25.140.201', 27017), u'ProjectCorruption')\n",
      "Collection(Database(MongoClient('52.25.140.201', 27017), u'ProjectCorruption'), u'Links_to_articles')\n"
     ]
    }
   ],
   "source": [
    "import time\n",
    "import requests\n",
    "import json\n",
    "from selenium.webdriver.support.ui import Select\n",
    "from bs4 import BeautifulSoup\n",
    "from selenium import webdriver\n",
    "from selenium.webdriver.common.keys import Keys\n",
    "from requests.exceptions import ConnectionError\n",
    "\n",
    "import pymongo\n",
    "from pymongo import MongoClient\n",
    "client = MongoClient(\"52.25.140.201\",27017)\n",
    "db = client['ProjectCorruption']\n",
    "print db\n",
    "collection = db['Links_to_articles']\n",
    "print collection\n",
    "\n",
    "starting_point = 0"
   ]
  },
  {
   "cell_type": "code",
   "execution_count": 2,
   "metadata": {
    "collapsed": false
   },
   "outputs": [],
   "source": [
    "from selenium import webdriver\n",
    "from selenium.webdriver.common.keys import Keys\n",
    "import time\n",
    "\n",
    "chrome = webdriver.Chrome()\n",
    "\n",
    "infobae_url = \"http://search.infobae.com/corrupcion\"\n",
    "\n",
    "chrome.get(infobae_url)"
   ]
  },
  {
   "cell_type": "code",
   "execution_count": 3,
   "metadata": {
    "collapsed": true
   },
   "outputs": [],
   "source": [
    "page = chrome.page_source"
   ]
  },
  {
   "cell_type": "code",
   "execution_count": 4,
   "metadata": {
    "collapsed": false
   },
   "outputs": [],
   "source": [
    "soup = BeautifulSoup(page)"
   ]
  },
  {
   "cell_type": "code",
   "execution_count": 5,
   "metadata": {
    "collapsed": false,
    "scrolled": true
   },
   "outputs": [
    {
     "name": "stdout",
     "output_type": "stream",
     "text": [
      "http://www.infobae.com/2015/09/01/1752163-domingo-amaya-en-tucuman-rige-la-impunidad\n",
      "http://www.infobae.com/2015/08/31/1752145-ejecutivo-brasileno-aseguro-que-odebrecht-dirigia-el-cartel-empresas-que-operaba-petrobras\n",
      "http://www.infobae.com/2015/08/31/1752095-peru-comision-parlamentaria-recomienda-investigar-la-primera-dama-corrupcion\n",
      "http://www.infobae.com/2015/08/31/1752050-corrupcion-guatemala-otto-perez-pidio-un-amparo-impedir-que-le-quiten-la-inmunidad\n",
      "http://www.infobae.com/2015/08/31/1752048-ricardo-arjona-pidio-la-renuncia-del-presidente-guatemala\n",
      "5\n"
     ]
    }
   ],
   "source": [
    "a = soup.find_all(class_='entry-title url')\n",
    "count = 0\n",
    "for each in range(len(a)):\n",
    "    print a[each]['href']\n",
    "    count += 1\n",
    "            \n",
    "print count\n",
    "            \n",
    "    "
   ]
  },
  {
   "cell_type": "code",
   "execution_count": 9,
   "metadata": {
    "collapsed": false
   },
   "outputs": [
    {
     "name": "stdout",
     "output_type": "stream",
     "text": [
      "<selenium.webdriver.remote.webelement.WebElement object at 0x108231890>\n"
     ]
    }
   ],
   "source": [
    "search_button = chrome.find_element_by_class_name('vermasnoticias')\n",
    "search_button.click()\n",
    "print search_button"
   ]
  },
  {
   "cell_type": "code",
   "execution_count": null,
   "metadata": {
    "collapsed": false
   },
   "outputs": [],
   "source": [
    "search_button = chrome.find_element_by_class_name('b-next')\n",
    "print search_button\n",
    "search_button.click()"
   ]
  },
  {
   "cell_type": "code",
   "execution_count": 15,
   "metadata": {
    "collapsed": false
   },
   "outputs": [],
   "source": [
    "chrome.close()"
   ]
  },
  {
   "cell_type": "code",
   "execution_count": 7,
   "metadata": {
    "collapsed": false,
    "scrolled": true
   },
   "outputs": [
    {
     "name": "stdout",
     "output_type": "stream",
     "text": [
      "Database(MongoClient('52.25.140.201', 27017), u'ProjectCorruption')\n",
      "Collection(Database(MongoClient('52.25.140.201', 27017), u'ProjectCorruption'), u'Links_to_articles')\n",
      "Keyword:clientelismo\n",
      "Link passed: http://www.infobae.com/2015/08/27/1751063-sturzenegger-el-kirchnerismo-convirtio-al-estado-un-aguantadero-del-clientelismo\n",
      "Link passed: http://www.infobae.com/2015/08/25/1750555-tucuman-segun-la-prensa-internacional-clientelismo-regalos-y-millones-pesos\n",
      "Link passed: http://www.infobae.com/2015/08/23/1750162-la-argentina-fraudulenta-y-su-reverso\n",
      "Link passed: http://www.infobae.com/2015/08/21/1749811-elecciones-tucuman-las-denuncias-tineron-el-final-la-campana\n",
      "Link passed: http://www.infobae.com/2015/08/11/1747775-seguir-pretendiendo-excusar-las-cosas-clientelismo-es-no-conocer-el-conurbano\n",
      "Link passed: http://www.infobae.com/2015/08/27/1751063-sturzenegger-el-kirchnerismo-convirtio-al-estado-un-aguantadero-del-clientelismo\n",
      "Link passed: http://www.infobae.com/2015/08/25/1750555-tucuman-segun-la-prensa-internacional-clientelismo-regalos-y-millones-pesos\n",
      "Link passed: http://www.infobae.com/2015/08/23/1750162-la-argentina-fraudulenta-y-su-reverso\n",
      "Link passed: http://www.infobae.com/2015/08/21/1749811-elecciones-tucuman-las-denuncias-tineron-el-final-la-campana\n",
      "Link passed: http://www.infobae.com/2015/08/11/1747775-seguir-pretendiendo-excusar-las-cosas-clientelismo-es-no-conocer-el-conurbano\n",
      "Link passed: http://www.infobae.com/2015/06/29/1738335-la-iglesia-se-pronuncio-contra-el-clientelismo-y-la-corrupcion\n",
      "Link passed: http://www.infobae.com/2015/06/21/1736412-televisores-y-mas-como-mantiene-su-imperio-el-pri-mexico\n",
      "Link passed: http://www.infobae.com/2015/04/18/1723233-el-director-desplazado-del-hospital-posadas-niega-que-su-gestion-sea-corrupta\n",
      "Link passed: http://www.infobae.com/2015/03/21/1717256-lo-que-marco-el-fin-este-gobierno-es-la-muerte-del-fiscal-alberto-nisman\n",
      "Link passed: http://opinion.infobae.com/alicia-terada/2015/01/07/las-victimas-del-clientelismo-y-la-corrupcion/\n",
      "Link passed: http://www.infobae.com/2014/12/16/1615527-para-la-sota-el-kirchnerismo-se-sostiene-los-planes-sociales\n",
      "Link passed: http://www.infobae.com/2014/10/05/1599480-la-toma-tierras-paso-ser-un-hecho-epico-un-negocio-especulativo\n",
      "Link passed: http://opinion.infobae.com/claudio-presman/2014/06/02/alejarse-del-clientelismo-y-de-las-encuestas/\n",
      "Link passed: http://www.infobae.com/2014/02/20/1545071-decenas-heridos-chaco-una-protesta-campesinos-qom\n",
      "Link passed: http://www.infobae.com/2014/02/16/1544222-forster-insiste-un-clima-destituyente-mientras-la-izquierda-se-preocupa-la-devaluacion\n"
     ]
    }
   ],
   "source": [
    "import time\n",
    "import requests\n",
    "import json\n",
    "import random\n",
    "from selenium.webdriver.support.ui import Select\n",
    "from bs4 import BeautifulSoup\n",
    "from selenium import webdriver\n",
    "from selenium.webdriver.common.keys import Keys\n",
    "from requests.exceptions import ConnectionError\n",
    "from selenium.common.exceptions import NoSuchElementException\n",
    "from selenium.common.exceptions import ElementNotVisibleException\n",
    "import pymongo\n",
    "from pymongo import MongoClient\n",
    "\n",
    "client = MongoClient(\"52.25.140.201\",27017)\n",
    "db = client['ProjectCorruption']\n",
    "print db\n",
    "collection = db['Links_to_articles']\n",
    "print collection\n",
    "\n",
    "starting_point = 0\n",
    "total_added = 0\n",
    "count = 0\n",
    "\n",
    "#list_of_keywords = ['corrupcion','corrupto','corrupta','cohecho','soborno','coima','enriquecimiento-ilicito',\\\n",
    "list_of_keywords = ['clientelismo']\n",
    "\n",
    "chrome = webdriver.Chrome()\n",
    "\n",
    "for keyword in list_of_keywords:\n",
    "\n",
    "    infobae_url = \"http://search.infobae.com/\"+keyword\n",
    "    \n",
    "    print \"Keyword:\"+keyword\n",
    "\n",
    "    response = chrome.get(infobae_url)\n",
    "\n",
    "    first_page = True\n",
    "\n",
    "    while True:\n",
    "\n",
    "        \n",
    "        page = chrome.page_source\n",
    "        soup = BeautifulSoup(page)\n",
    "\n",
    "        a = soup.find_all(class_='entry-title url')\n",
    "        for each in range(len(a)):\n",
    "\n",
    "            article_link = a[each]['href']\n",
    "            count += 1\n",
    "\n",
    "            exist = collection.find_one({\"link\": article_link, \"source\":\"Infobae\"})\n",
    "            if exist == None:\n",
    "                article_source = \"Infobae\"\n",
    "                article_object = {\"link\":article_link, \"source\":article_source, \"parsed\":\"N\"}\n",
    "                article_id = collection.insert_one(article_object)\n",
    "                total_added += 1\n",
    "                print 'Link added:',article_link\n",
    "                print 'Total added:',str(total_added)\n",
    "            else:\n",
    "                print 'Link passed:',article_link\n",
    "        \n",
    "        #wait_time = random.uniform(4)\n",
    "        chrome.implicitly_wait(3)\n",
    "\n",
    "        if first_page:\n",
    "            try:\n",
    "                search_button = chrome.find_element_by_class_name('vermasnoticias')\n",
    "            except ElementNotVisibleException:\n",
    "                break\n",
    "            except NoSuchElementException:\n",
    "                break\n",
    "            else:    \n",
    "                try: \n",
    "                    search_button.click()\n",
    "                except ElementNotVisibleException:\n",
    "                    break\n",
    "                else:    \n",
    "                    first_page = False\n",
    "        else:\n",
    "            try:\n",
    "                search_button = chrome.find_element_by_class_name('b-next')\n",
    "            except ElementNotVisibleException:\n",
    "                break\n",
    "            except NoSuchElementException:\n",
    "                break\n",
    "            else:    \n",
    "                try: \n",
    "                    search_button.click()\n",
    "                except ElementNotVisibleException:\n",
    "                    break\n",
    "           "
   ]
  },
  {
   "cell_type": "code",
   "execution_count": 5,
   "metadata": {
    "collapsed": false
   },
   "outputs": [
    {
     "ename": "NoSuchWindowException",
     "evalue": "Message: no such window: target window already closed\nfrom unknown error: web view not found\n  (Session info: chrome=44.0.2403.130)\n  (Driver info: chromedriver=2.16.333243 (0bfa1d3575fc1044244f21ddb82bf870944ef961),platform=Mac OS X 10.10.5 x86_64)\n",
     "output_type": "error",
     "traceback": [
      "\u001b[0;31m---------------------------------------------------------------------------\u001b[0m",
      "\u001b[0;31mNoSuchWindowException\u001b[0m                     Traceback (most recent call last)",
      "\u001b[0;32m<ipython-input-5-c3552279d3d3>\u001b[0m in \u001b[0;36m<module>\u001b[0;34m()\u001b[0m\n\u001b[0;32m----> 1\u001b[0;31m \u001b[0msearch_button\u001b[0m \u001b[0;34m=\u001b[0m \u001b[0mchrome\u001b[0m\u001b[0;34m.\u001b[0m\u001b[0mfind_element_by_class_name\u001b[0m\u001b[0;34m(\u001b[0m\u001b[0;34m'b-next'\u001b[0m\u001b[0;34m)\u001b[0m\u001b[0;34m\u001b[0m\u001b[0m\n\u001b[0m",
      "\u001b[0;32m//anaconda/lib/python2.7/site-packages/selenium/webdriver/remote/webdriver.pyc\u001b[0m in \u001b[0;36mfind_element_by_class_name\u001b[0;34m(self, name)\u001b[0m\n\u001b[1;32m    371\u001b[0m             \u001b[0mdriver\u001b[0m\u001b[0;34m.\u001b[0m\u001b[0mfind_element_by_class_name\u001b[0m\u001b[0;34m(\u001b[0m\u001b[0;34m'foo'\u001b[0m\u001b[0;34m)\u001b[0m\u001b[0;34m\u001b[0m\u001b[0m\n\u001b[1;32m    372\u001b[0m         \"\"\"\n\u001b[0;32m--> 373\u001b[0;31m         \u001b[0;32mreturn\u001b[0m \u001b[0mself\u001b[0m\u001b[0;34m.\u001b[0m\u001b[0mfind_element\u001b[0m\u001b[0;34m(\u001b[0m\u001b[0mby\u001b[0m\u001b[0;34m=\u001b[0m\u001b[0mBy\u001b[0m\u001b[0;34m.\u001b[0m\u001b[0mCLASS_NAME\u001b[0m\u001b[0;34m,\u001b[0m \u001b[0mvalue\u001b[0m\u001b[0;34m=\u001b[0m\u001b[0mname\u001b[0m\u001b[0;34m)\u001b[0m\u001b[0;34m\u001b[0m\u001b[0m\n\u001b[0m\u001b[1;32m    374\u001b[0m \u001b[0;34m\u001b[0m\u001b[0m\n\u001b[1;32m    375\u001b[0m     \u001b[0;32mdef\u001b[0m \u001b[0mfind_elements_by_class_name\u001b[0m\u001b[0;34m(\u001b[0m\u001b[0mself\u001b[0m\u001b[0;34m,\u001b[0m \u001b[0mname\u001b[0m\u001b[0;34m)\u001b[0m\u001b[0;34m:\u001b[0m\u001b[0;34m\u001b[0m\u001b[0m\n",
      "\u001b[0;32m//anaconda/lib/python2.7/site-packages/selenium/webdriver/remote/webdriver.pyc\u001b[0m in \u001b[0;36mfind_element\u001b[0;34m(self, by, value)\u001b[0m\n\u001b[1;32m    705\u001b[0m                 \u001b[0mvalue\u001b[0m \u001b[0;34m=\u001b[0m \u001b[0;34m'[name=\"%s\"]'\u001b[0m \u001b[0;34m%\u001b[0m \u001b[0mvalue\u001b[0m\u001b[0;34m\u001b[0m\u001b[0m\n\u001b[1;32m    706\u001b[0m         return self.execute(Command.FIND_ELEMENT,\n\u001b[0;32m--> 707\u001b[0;31m                              {'using': by, 'value': value})['value']\n\u001b[0m\u001b[1;32m    708\u001b[0m \u001b[0;34m\u001b[0m\u001b[0m\n\u001b[1;32m    709\u001b[0m     \u001b[0;32mdef\u001b[0m \u001b[0mfind_elements\u001b[0m\u001b[0;34m(\u001b[0m\u001b[0mself\u001b[0m\u001b[0;34m,\u001b[0m \u001b[0mby\u001b[0m\u001b[0;34m=\u001b[0m\u001b[0mBy\u001b[0m\u001b[0;34m.\u001b[0m\u001b[0mID\u001b[0m\u001b[0;34m,\u001b[0m \u001b[0mvalue\u001b[0m\u001b[0;34m=\u001b[0m\u001b[0mNone\u001b[0m\u001b[0;34m)\u001b[0m\u001b[0;34m:\u001b[0m\u001b[0;34m\u001b[0m\u001b[0m\n",
      "\u001b[0;32m//anaconda/lib/python2.7/site-packages/selenium/webdriver/remote/webdriver.pyc\u001b[0m in \u001b[0;36mexecute\u001b[0;34m(self, driver_command, params)\u001b[0m\n\u001b[1;32m    194\u001b[0m         \u001b[0mresponse\u001b[0m \u001b[0;34m=\u001b[0m \u001b[0mself\u001b[0m\u001b[0;34m.\u001b[0m\u001b[0mcommand_executor\u001b[0m\u001b[0;34m.\u001b[0m\u001b[0mexecute\u001b[0m\u001b[0;34m(\u001b[0m\u001b[0mdriver_command\u001b[0m\u001b[0;34m,\u001b[0m \u001b[0mparams\u001b[0m\u001b[0;34m)\u001b[0m\u001b[0;34m\u001b[0m\u001b[0m\n\u001b[1;32m    195\u001b[0m         \u001b[0;32mif\u001b[0m \u001b[0mresponse\u001b[0m\u001b[0;34m:\u001b[0m\u001b[0;34m\u001b[0m\u001b[0m\n\u001b[0;32m--> 196\u001b[0;31m             \u001b[0mself\u001b[0m\u001b[0;34m.\u001b[0m\u001b[0merror_handler\u001b[0m\u001b[0;34m.\u001b[0m\u001b[0mcheck_response\u001b[0m\u001b[0;34m(\u001b[0m\u001b[0mresponse\u001b[0m\u001b[0;34m)\u001b[0m\u001b[0;34m\u001b[0m\u001b[0m\n\u001b[0m\u001b[1;32m    197\u001b[0m             response['value'] = self._unwrap_value(\n\u001b[1;32m    198\u001b[0m                 response.get('value', None))\n",
      "\u001b[0;32m//anaconda/lib/python2.7/site-packages/selenium/webdriver/remote/errorhandler.pyc\u001b[0m in \u001b[0;36mcheck_response\u001b[0;34m(self, response)\u001b[0m\n\u001b[1;32m    179\u001b[0m         \u001b[0;32melif\u001b[0m \u001b[0mexception_class\u001b[0m \u001b[0;34m==\u001b[0m \u001b[0mUnexpectedAlertPresentException\u001b[0m \u001b[0;32mand\u001b[0m \u001b[0;34m'alert'\u001b[0m \u001b[0;32min\u001b[0m \u001b[0mvalue\u001b[0m\u001b[0;34m:\u001b[0m\u001b[0;34m\u001b[0m\u001b[0m\n\u001b[1;32m    180\u001b[0m             \u001b[0;32mraise\u001b[0m \u001b[0mexception_class\u001b[0m\u001b[0;34m(\u001b[0m\u001b[0mmessage\u001b[0m\u001b[0;34m,\u001b[0m \u001b[0mscreen\u001b[0m\u001b[0;34m,\u001b[0m \u001b[0mstacktrace\u001b[0m\u001b[0;34m,\u001b[0m \u001b[0mvalue\u001b[0m\u001b[0;34m[\u001b[0m\u001b[0;34m'alert'\u001b[0m\u001b[0;34m]\u001b[0m\u001b[0;34m.\u001b[0m\u001b[0mget\u001b[0m\u001b[0;34m(\u001b[0m\u001b[0;34m'text'\u001b[0m\u001b[0;34m)\u001b[0m\u001b[0;34m)\u001b[0m\u001b[0;34m\u001b[0m\u001b[0m\n\u001b[0;32m--> 181\u001b[0;31m         \u001b[0;32mraise\u001b[0m \u001b[0mexception_class\u001b[0m\u001b[0;34m(\u001b[0m\u001b[0mmessage\u001b[0m\u001b[0;34m,\u001b[0m \u001b[0mscreen\u001b[0m\u001b[0;34m,\u001b[0m \u001b[0mstacktrace\u001b[0m\u001b[0;34m)\u001b[0m\u001b[0;34m\u001b[0m\u001b[0m\n\u001b[0m\u001b[1;32m    182\u001b[0m \u001b[0;34m\u001b[0m\u001b[0m\n\u001b[1;32m    183\u001b[0m     \u001b[0;32mdef\u001b[0m \u001b[0m_value_or_default\u001b[0m\u001b[0;34m(\u001b[0m\u001b[0mself\u001b[0m\u001b[0;34m,\u001b[0m \u001b[0mobj\u001b[0m\u001b[0;34m,\u001b[0m \u001b[0mkey\u001b[0m\u001b[0;34m,\u001b[0m \u001b[0mdefault\u001b[0m\u001b[0;34m)\u001b[0m\u001b[0;34m:\u001b[0m\u001b[0;34m\u001b[0m\u001b[0m\n",
      "\u001b[0;31mNoSuchWindowException\u001b[0m: Message: no such window: target window already closed\nfrom unknown error: web view not found\n  (Session info: chrome=44.0.2403.130)\n  (Driver info: chromedriver=2.16.333243 (0bfa1d3575fc1044244f21ddb82bf870944ef961),platform=Mac OS X 10.10.5 x86_64)\n"
     ]
    }
   ],
   "source": [
    "search_button = chrome.find_element_by_class_name('b-next')"
   ]
  },
  {
   "cell_type": "code",
   "execution_count": null,
   "metadata": {
    "collapsed": true
   },
   "outputs": [],
   "source": []
  }
 ],
 "metadata": {
  "kernelspec": {
   "display_name": "Python 2",
   "language": "python",
   "name": "python2"
  },
  "language_info": {
   "codemirror_mode": {
    "name": "ipython",
    "version": 2
   },
   "file_extension": ".py",
   "mimetype": "text/x-python",
   "name": "python",
   "nbconvert_exporter": "python",
   "pygments_lexer": "ipython2",
   "version": "2.7.10"
  }
 },
 "nbformat": 4,
 "nbformat_minor": 0
}
