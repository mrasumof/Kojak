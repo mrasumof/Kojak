{
 "cells": [
  {
   "cell_type": "code",
   "execution_count": 2,
   "metadata": {
    "collapsed": false
   },
   "outputs": [
    {
     "name": "stdout",
     "output_type": "stream",
     "text": [
      "Collection(Database(MongoClient('52.25.140.201', 27017), u'ProjectCorruption'), u'Parsed_Articles')\n"
     ]
    }
   ],
   "source": [
    "import pymongo\n",
    "from pymongo import MongoClient\n",
    "from requests.exceptions import ConnectionError\n",
    "from bs4 import BeautifulSoup\n",
    "import requests\n",
    "import time\n",
    "\n",
    "client = MongoClient(\"52.25.140.201\",27017)\n",
    "db = client['ProjectCorruption']\n",
    "coll_parsed = db['Parsed_Articles']\n",
    "\n",
    "print coll_parsed"
   ]
  },
  {
   "cell_type": "code",
   "execution_count": 3,
   "metadata": {
    "collapsed": false
   },
   "outputs": [],
   "source": [
    "s = coll_parsed.find()"
   ]
  },
  {
   "cell_type": "code",
   "execution_count": 9,
   "metadata": {
    "collapsed": false,
    "scrolled": true
   },
   "outputs": [
    {
     "name": "stdout",
     "output_type": "stream",
     "text": [
      "[u'Romina', u'Picolotti,', u'a', u'juicio', u'oral.', u'Foto:', u'Archivo', u'La', u'ex', u'secretaria', u'kirchnerista', u'de', u'Ambiente', u'y', u'Desarrollo', u'Sustentable', u'Romina', u'Picolotti', u'(2006-2008)', u'fue', u'enviada', u'a', u'juicio', u'oral', u'y', u'p\\xfablico', u'por', u'supuesta', u'corrupci\\xf3n', u'durante', u'su', u'gesti\\xf3n', u'al', u'pagar', u'regalos', u'de', u'lujo,', u'vuelos', u'en', u'aviones', u'privados', u'y', u'restaurantes', u'selectos', u'con', u'dinero', u'p\\xfablico.Fuentes', u'judiciales', u'informaron', u'hoy', u'que', u'la', u'jueza', u'federal', u'Mar\\xeda', u'Servini', u'de', u'Cubr\\xeda', u'dio', u'por', u'concluida', u'la', u'etapa', u'de', u'instrucci\\xf3n', u'de', u'la', u'causa,', u'luego', u'de', u'que', u'en', u'marzo', u'pasado', u'la', u'C\\xe1mara', u'Federal', u'confirmara', u'el', u'procesamiento,', u'y', u'elevara', u'el', u'caso', u'a', u'la', u'instancia', u'del', u'debate', u'oral.Para', u'hacer', u'el', u'juicio,', u'fue', u'sorteado', u'el', u'Tribunal', u'Oral', u'Federal', u'6,', u'integrado', u'por', u'los', u'jueces', u'Jos\\xe9', u'Mart\\xednez', u'Sobrino,', u'Mar\\xeda', u'del', u'Carmen', u'Roqueta', u'y', u'Julio', u'Panelo,', u'quienes', u'deber\\xe1n', u'llevar', u'a', u'cabo', u'los', u'pasos', u'procesales', u'de', u'esta', u'etapa', u'hasta', u'fijar', u'una', u'fecha', u'de', u'inicio', u'del', u'debate.Estos', u'mismos', u'magistrados', u'condenaron', u'a', u'Mar\\xeda', u'Julia', u'Alsogaray,', u'la', u'funcionaria', u'menemista', u'que,', u'entre', u'otros', u'cargos,', u'ocup\\xf3', u'el', u'mismo', u'que', u'Picolotti,', u'y', u'actualmente', u'est\\xe1n', u'juzgando', u'actualmente', u'al', u'ex', u'titular', u'del', u'PAMI', u'V\\xedctor', u'Alderete', u'y', u'que', u'deben', u'resolver', u'un', u'juicio', u'abreviado', u'para', u'que', u'el', u'ex', u'funcionario', u'sea', u'condenado', u'a', u'tres', u'a\\xf1os', u'y', u'medio', u'de', u'prisi\\xf3n.Picolotti,', u'que', u'cobr\\xf3', u'notoriedad', u'como', u'abogada', u'de', u'los', u'ambientalistas', u'de', u'Gualeguaych\\xfa', u'durante', u'el', u'conflicto', u'con', u'Uruguay', u'por', u'la', u'papelera', u'Botnia,', u'ocup\\xf3', u'la', u'Secretar\\xeda', u'desde', u'2006', u'a', u'2008', u'cuando', u'la', u'presidenta', u'Cristina', u'Fern\\xe1ndez', u'la', u'relev\\xf3', u'luego', u'de', u'que', u'el', u'periodismo', u'revelara', u'gastos', u'de', u'la', u'funcionaria.El', u'procesamiento', u'de', u'Picolotti', u'por', u'presunta', u'administraci\\xf3n', u'fraudulenta', u'se', u'debi\\xf3,', u'seg\\xfan', u'la', u'investigaci\\xf3n,', u'a', u'que', u'utiliz\\xf3', u'fondos', u'del', u'Instituto', u'Nacional', u'de', u'Tecnolog\\xeda', u'Agropecuaria', u'(INTA)', u'para', u'gastos', u'personales,', u'como', u'regalos', u'de', u'lujo', u'y', u'vuelos', u'en', u'aviones', u'privados.Uno', u'de', u'los', u'gastos', u'm\\xe1s', u'exc\\xe9ntricos', u'que', u'detall\\xf3', u'la', u'jueza', u'en', u'el', u'procesamiento', u'fueron', u'77,5', u'pesos', u'en', u'el', u'local', u'Hooters,', u'\"conocido', u'por', u'ser', u'atendido', u'por', u'se\\xf1oritas', u'de', u'medidas', u'generosas', u'y', u'sueltas', u'de', u'ropa\",', u'describi\\xf3', u'la', u'jueza.\"Este', u'comprobante', u'posee', u'escrito', u'en', u'su', u'parte', u'superior', u\"'Muchas\", u\"Gracias!!!!'\", u'con', u'signos', u'de', u'exclamaci\\xf3n,', u'a', u'modo', u'de', u'c\\xf3mplice', u'agradecimiento', u'por', u'parte', u'de', u'quien', u'concurri\\xf3', u'al', u'local', u'e', u'hizo', u'los', u'consumos', u'con', u'dinero', u'p\\xfablico\",', u'explic\\xf3', u'la', u'magistrada', u'en', u'su', u'resoluci\\xf3n.\"Fueron', u'cinco', u'los', u'vuelos', u'privados', u'contratados', u'para', u'su', u'desplazamiento', u'hacia', u'otras', u'provincias', u'previo', u'paso', u'en', u'el', u'tramo', u'de', u'ida,', u'de', u'vuelta', u'o', u'en', u'ambas', u'oportunidades', u'por', u'la', u'ciudad', u'de', u'C\\xf3rdoba', u'-de', u'donde', u'la', u'imputada', u'es', u'oriunda-', u'sin', u'que', u'esta', u'parada,', u'que', u'habr\\xeda', u'sido', u'el', u'motivo', u'mismo', u'de', u'la', u'contrataci\\xf3n', u'de', u'tan', u'exclusivo', u'servicio,', u'tuviera', u'un', u'justificativo', u'funcional\",', u'explicaron', u'los', u'camaristas', u'en', u'su', u'fallo.Tambi\\xe9n', u'se\\xf1alaron', u'sobre', u'Picolotti', u'que', u'fueron', u'\"m\\xe1s', u'de', u'doscientos', u'sesenta', u'los', u'pasajes', u'a\\xe9reos', u'emitidos', u'a', u'su', u'favor', u'o', u'de', u'personas', u'de', u'su', u'entorno', u'inmediato,', u'sufragados', u'con', u'fondos', u'de', u'la', u'Secretar\\xeda', u'de', u'Estado', u'de', u'la', u'que', u'era', u'titular', u'cuando', u'en', u'ning\\xfan', u'caso', u'correspond\\xedan', u'por', u'desarraigo', u'u', u'otro', u'motivo', u'legal\".Por', u'\\xfaltimo,', u'detallaron', u'que', u'Picolotti', u'firm\\xf3', u'm\\xe1s', u'de', u'950', u'consumos', u'que', u'se', u'pagaron', u'con', u'fondos', u'de', u'la', u'Secretar\\xeda.', u'La', u'ex', u'Secretar\\xeda', u'concurri\\xf3', u'en', u'dos', u'oportunidades', u'a', u'declaraci\\xf3n', u'indagatoria', u'pero', u'las', u'dos', u'veces', u'se', u'neg\\xf3', u'a', u'hablar', u'y', u'se', u'limit\\xf3', u'a', u'presentar', u'un', u'descargo', u'por', u'escrito.El', u'fiscal', u'federal', u'Guillermo', u'Mariju\\xe1n', u'hab\\xeda', u'solicitado', u'semanas', u'atr\\xe1s', u'que', u'se', u'de', u'por', u'cerrada', u'la', u'investigaci\\xf3n', u'y', u'que', u'Picolotti', u'fuera', u'enviada', u'a', u'junco', u'oral,', u'lo', u'que', u'la', u'jueza', u'Servini', u'de', u'Cubr\\xeda', u'realiz\\xf3', u'hoy.', u'En', u'esta', u'misma', u'causa', u'la', u'ex', u'funcionaria', u'tambi\\xe9n', u'estaba', u'imputada', u'por', u'otras', u'presuntas', u'irregularidades', u'durante', u'su', u'gesti\\xf3n', u'pero', u'fue', u'sobrese\\xedda..']\n"
     ]
    }
   ],
   "source": [
    "a = s[0]['body'].split()\n",
    "print a"
   ]
  },
  {
   "cell_type": "code",
   "execution_count": 18,
   "metadata": {
    "collapsed": false
   },
   "outputs": [],
   "source": [
    "def find_words(body_txt,keyword):\n",
    "    count_wrd = 0\n",
    "    for each_word in body_txt.split():\n",
    "        if each_word == keyword:\n",
    "            count_wrd += 1\n",
    "            \n",
    "    return count_wrd\n"
   ]
  },
  {
   "cell_type": "code",
   "execution_count": 21,
   "metadata": {
    "collapsed": false
   },
   "outputs": [
    {
     "name": "stdout",
     "output_type": "stream",
     "text": [
      "3\n"
     ]
    }
   ],
   "source": [
    "a = s[0]['body']\n",
    "print find_words(a,'juicio')"
   ]
  },
  {
   "cell_type": "code",
   "execution_count": 25,
   "metadata": {
    "collapsed": false
   },
   "outputs": [
    {
     "name": "stdout",
     "output_type": "stream",
     "text": [
      "Corrupcion:1\n",
      "Corrupto:0\n",
      "Corrupta:0\n",
      "Cohecho:0\n",
      "Soborno:0\n",
      "Coima:0\n",
      "Enriq Ilicito:0\n",
      "Conflicto Interes:0\n",
      "Nepotismo:0\n",
      "Fraude:0\n",
      "Compra de Votos:0\n",
      "Clientelismo:0\n"
     ]
    }
   ],
   "source": [
    "#s = 'This is a sentence with a bunch of words. How can we count the number of words? How can we count the number of times the letter a appears? How can we count the number of times the word a appears?'\n",
    "list_of_keywords = ['corrupcion','corrupto','corrupta','cohecho','soborno','coima','\"enriquecimiento ilicito\"',\\\n",
    "                   '\"conflicto de interes\"','nepotismo','fraude','\"compra de votos\"','clientelismo']\n",
    "\n",
    "\n",
    "for each_doc in coll_parsed.find():\n",
    "\n",
    "    article_link = each_doc[0]['link']\n",
    "    \n",
    "    a = s[0]['body']\n",
    "    \n",
    "    kywrd_0 = find_words(a,u'corrupci\\xf3n')\n",
    "    kywrd_1 = find_words(a,'corrupto')\n",
    "    kywrd_2 = find_words(a,'corrupta')\n",
    "    kywrd_3 = find_words(a,'cohecho')\n",
    "    kywrd_4 = find_words(a,'soborno')\n",
    "    kywrd_5 = find_words(a,'coima')\n",
    "    kywrd_6 = find_words(a,'enriquecimiento ilicito')\n",
    "    kywrd_7 = find_words(a,'conflicto de interes')\n",
    "    kywrd_8 = find_words(a,'nepotismo')\n",
    "    kywrd_9 = find_words(a,'fraude')\n",
    "    kywrd_10 = find_words(a,'compra de votos')\n",
    "    kywrd_11 = find_words(a,'clientelismo')\n",
    "\n",
    "    coll_parsed.update({\"link\":article_link},{\"$set\":{\"corrupcion\":kywrd_0,\\\n",
    "                                                      \"corrupto\":kywrd_1,\\\n",
    "                                                      \"corrupta\":kywrd_2,\\\n",
    "                                                      \"cohecho\":kywrd_3,\\\n",
    "                                                      \"soborno\":kywrd_4,\\\n",
    "                                                      \"coima\":kywrd_5,\\\n",
    "                                                      \"enriq_ilicito\":kywrd_6,\\\n",
    "                                                      \"conf_interes\":kywrd_7,\\\n",
    "                                                      \"nepotismo\":kywrd_8,\\\n",
    "                                                      \"fraude\":kywrd_9,\\\n",
    "                                                      \"compr_votos\":kywrd_10,\\\n",
    "                                                      \"clientelismo\":kywrd_11,\\\n",
    "                                                     }})\n",
    "    \n",
    "    print 'Link:'+atricle_link    \n",
    "    print 'Corrupcion:'+str(kywrd_0)\n",
    "    print 'Corrupto:'+str(kywrd_1)\n",
    "    print 'Corrupta:'+str(kywrd_2)\n",
    "    print 'Cohecho:'+str(kywrd_3)\n",
    "    print 'Soborno:'+str(kywrd_4)\n",
    "    print 'Coima:'+str(kywrd_5)\n",
    "    print 'Enriq Ilicito:'+str(kywrd_6)\n",
    "    print 'Conflicto Interes:'+str(kywrd_7)\n",
    "    print 'Nepotismo:'+str(kywrd_8)\n",
    "    print 'Fraude:'+str(kywrd_9)\n",
    "    print 'Compra de Votos:'+str(kywrd_10)\n",
    "    print 'Clientelismo:'+str(kywrd_11)\n",
    "    print '----------------------------------------'\n",
    "\n",
    "\n",
    "\n",
    "\n"
   ]
  },
  {
   "cell_type": "code",
   "execution_count": null,
   "metadata": {
    "collapsed": true
   },
   "outputs": [],
   "source": []
  }
 ],
 "metadata": {
  "kernelspec": {
   "display_name": "Python 2",
   "language": "python",
   "name": "python2"
  },
  "language_info": {
   "codemirror_mode": {
    "name": "ipython",
    "version": 2
   },
   "file_extension": ".py",
   "mimetype": "text/x-python",
   "name": "python",
   "nbconvert_exporter": "python",
   "pygments_lexer": "ipython2",
   "version": "2.7.10"
  }
 },
 "nbformat": 4,
 "nbformat_minor": 0
}
